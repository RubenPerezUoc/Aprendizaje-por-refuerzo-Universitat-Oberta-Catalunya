{
 "cells": [
  {
   "cell_type": "markdown",
   "metadata": {
    "id": "e_g80ouHWKmS"
   },
   "source": [
    "<div style=\"width: 100%; clear: both;\">\n",
    "<div style=\"float: left; width: 50%;\">\n",
    "<img src=\"http://www.uoc.edu/portal/_resources/common/imatges/marca_UOC/UOC_Masterbrand.jpg\", align=\"left\">\n",
    "</div>\n",
    "<div style=\"float: right; width: 50%;\">\n",
    "<p style=\"margin: 0; padding-top: 22px; text-align:right;\">M2.883 · Aprendizaje por refuerzo</p>\n",
    "<p style=\"margin: 0; text-align:right;\">Máster universitario en Ciencia de datos (<i>Data science</i>)</p>\n",
    "<p style=\"margin: 0; text-align:right; padding-button: 100px;\">Estudios de Informática, Multimedia y Telecomunicación</p>\n",
    "</div>\n",
    "</div>\n",
    "<div style=\"width:100%;\">&nbsp;</div>\n",
    "\n",
    "\n",
    "# Módulo 2: Desarrollo de un Entorno Personalizado con Gymnasium\n",
    "\n",
    "En este _notebook_ crearemos un entorno de Gymnasium y veremos la interacción con una solución DQN. "
   ]
  },
  {
   "cell_type": "markdown",
   "metadata": {},
   "source": "En primer lugar instalaremos la librería gymnasium (si no la tenemos instalada) y el resto de librerias.  ."
  },
  {
   "cell_type": "code",
   "metadata": {
    "ExecuteTime": {
     "end_time": "2024-09-15T16:37:22.217383Z",
     "start_time": "2024-09-15T16:37:06.055789Z"
    }
   },
   "source": [
    "!pip install gymnasium==0.28.1\n",
    "!pip install torch\n",
    "!pip install matplotlib\n",
    "!pip install numpy\n",
    "!pip install tensorboard\n",
    "!pip install tdqm\n",
    "!pip install tabulate"
   ],
   "outputs": [
    {
     "name": "stdout",
     "output_type": "stream",
     "text": [
      "Defaulting to user installation because normal site-packages is not writeable\n",
      "Requirement already satisfied: gymnasium==0.28.1 in c:\\users\\ruben\\appdata\\roaming\\python\\python39\\site-packages (0.28.1)\n",
      "Requirement already satisfied: typing-extensions>=4.3.0 in c:\\users\\ruben\\appdata\\roaming\\python\\python39\\site-packages (from gymnasium==0.28.1) (4.9.0)\n",
      "Requirement already satisfied: cloudpickle>=1.2.0 in c:\\programdata\\anaconda3\\lib\\site-packages (from gymnasium==0.28.1) (2.0.0)\n",
      "Requirement already satisfied: farama-notifications>=0.0.1 in c:\\users\\ruben\\appdata\\roaming\\python\\python39\\site-packages (from gymnasium==0.28.1) (0.0.4)\n",
      "Requirement already satisfied: jax-jumpy>=1.0.0 in c:\\users\\ruben\\appdata\\roaming\\python\\python39\\site-packages (from gymnasium==0.28.1) (1.0.0)\n",
      "Requirement already satisfied: importlib-metadata>=4.8.0 in c:\\programdata\\anaconda3\\lib\\site-packages (from gymnasium==0.28.1) (4.11.3)\n",
      "Requirement already satisfied: numpy>=1.21.0 in c:\\users\\ruben\\appdata\\roaming\\python\\python39\\site-packages (from gymnasium==0.28.1) (1.26.2)\n",
      "Requirement already satisfied: zipp>=0.5 in c:\\programdata\\anaconda3\\lib\\site-packages (from importlib-metadata>=4.8.0->gymnasium==0.28.1) (3.8.0)\n",
      "Defaulting to user installation because normal site-packages is not writeable\n",
      "Requirement already satisfied: torch in c:\\users\\ruben\\appdata\\roaming\\python\\python39\\site-packages (1.13.1)\n",
      "Requirement already satisfied: typing-extensions in c:\\users\\ruben\\appdata\\roaming\\python\\python39\\site-packages (from torch) (4.9.0)\n",
      "Defaulting to user installation because normal site-packages is not writeable\n",
      "Requirement already satisfied: matplotlib in c:\\programdata\\anaconda3\\lib\\site-packages (3.5.2)\n",
      "Requirement already satisfied: pillow>=6.2.0 in c:\\programdata\\anaconda3\\lib\\site-packages (from matplotlib) (9.2.0)\n",
      "Requirement already satisfied: numpy>=1.17 in c:\\users\\ruben\\appdata\\roaming\\python\\python39\\site-packages (from matplotlib) (1.26.2)\n",
      "Requirement already satisfied: pyparsing>=2.2.1 in c:\\programdata\\anaconda3\\lib\\site-packages (from matplotlib) (3.0.9)\n",
      "Requirement already satisfied: python-dateutil>=2.7 in c:\\programdata\\anaconda3\\lib\\site-packages (from matplotlib) (2.8.2)\n",
      "Requirement already satisfied: cycler>=0.10 in c:\\programdata\\anaconda3\\lib\\site-packages (from matplotlib) (0.11.0)\n",
      "Requirement already satisfied: fonttools>=4.22.0 in c:\\programdata\\anaconda3\\lib\\site-packages (from matplotlib) (4.25.0)\n",
      "Requirement already satisfied: packaging>=20.0 in c:\\programdata\\anaconda3\\lib\\site-packages (from matplotlib) (21.3)\n",
      "Requirement already satisfied: kiwisolver>=1.0.1 in c:\\programdata\\anaconda3\\lib\\site-packages (from matplotlib) (1.4.2)\n",
      "Requirement already satisfied: six>=1.5 in c:\\programdata\\anaconda3\\lib\\site-packages (from python-dateutil>=2.7->matplotlib) (1.16.0)\n",
      "Defaulting to user installation because normal site-packages is not writeable\n",
      "Requirement already satisfied: numpy in c:\\users\\ruben\\appdata\\roaming\\python\\python39\\site-packages (1.26.2)\n",
      "Defaulting to user installation because normal site-packages is not writeable\n",
      "Requirement already satisfied: tensorboard in c:\\users\\ruben\\appdata\\roaming\\python\\python39\\site-packages (2.14.1)\n",
      "Requirement already satisfied: google-auth<3,>=1.6.3 in c:\\users\\ruben\\appdata\\roaming\\python\\python39\\site-packages (from tensorboard) (2.23.3)\n",
      "Requirement already satisfied: protobuf>=3.19.6 in c:\\users\\ruben\\appdata\\roaming\\python\\python39\\site-packages (from tensorboard) (4.24.4)\n",
      "Requirement already satisfied: requests<3,>=2.21.0 in c:\\users\\ruben\\appdata\\roaming\\python\\python39\\site-packages (from tensorboard) (2.31.0)\n",
      "Requirement already satisfied: google-auth-oauthlib<1.1,>=0.5 in c:\\users\\ruben\\appdata\\roaming\\python\\python39\\site-packages (from tensorboard) (1.0.0)\n",
      "Requirement already satisfied: markdown>=2.6.8 in c:\\programdata\\anaconda3\\lib\\site-packages (from tensorboard) (3.3.4)\n",
      "Requirement already satisfied: numpy>=1.12.0 in c:\\users\\ruben\\appdata\\roaming\\python\\python39\\site-packages (from tensorboard) (1.26.2)\n",
      "Requirement already satisfied: werkzeug>=1.0.1 in c:\\programdata\\anaconda3\\lib\\site-packages (from tensorboard) (2.0.3)\n",
      "Requirement already satisfied: absl-py>=0.4 in c:\\users\\ruben\\appdata\\roaming\\python\\python39\\site-packages (from tensorboard) (2.0.0)\n",
      "Requirement already satisfied: tensorboard-data-server<0.8.0,>=0.7.0 in c:\\users\\ruben\\appdata\\roaming\\python\\python39\\site-packages (from tensorboard) (0.7.1)\n",
      "Requirement already satisfied: grpcio>=1.48.2 in c:\\users\\ruben\\appdata\\roaming\\python\\python39\\site-packages (from tensorboard) (1.59.0)\n",
      "Requirement already satisfied: six>1.9 in c:\\programdata\\anaconda3\\lib\\site-packages (from tensorboard) (1.16.0)\n",
      "Requirement already satisfied: setuptools>=41.0.0 in c:\\programdata\\anaconda3\\lib\\site-packages (from tensorboard) (63.4.1)\n",
      "Requirement already satisfied: cachetools<6.0,>=2.0.0 in c:\\users\\ruben\\appdata\\roaming\\python\\python39\\site-packages (from google-auth<3,>=1.6.3->tensorboard) (5.3.1)\n",
      "Requirement already satisfied: pyasn1-modules>=0.2.1 in c:\\programdata\\anaconda3\\lib\\site-packages (from google-auth<3,>=1.6.3->tensorboard) (0.2.8)\n",
      "Requirement already satisfied: rsa<5,>=3.1.4 in c:\\users\\ruben\\appdata\\roaming\\python\\python39\\site-packages (from google-auth<3,>=1.6.3->tensorboard) (4.9)\n",
      "Requirement already satisfied: requests-oauthlib>=0.7.0 in c:\\users\\ruben\\appdata\\roaming\\python\\python39\\site-packages (from google-auth-oauthlib<1.1,>=0.5->tensorboard) (1.3.1)\n",
      "Requirement already satisfied: charset-normalizer<4,>=2 in c:\\programdata\\anaconda3\\lib\\site-packages (from requests<3,>=2.21.0->tensorboard) (2.0.4)\n",
      "Requirement already satisfied: urllib3<3,>=1.21.1 in c:\\programdata\\anaconda3\\lib\\site-packages (from requests<3,>=2.21.0->tensorboard) (1.26.11)\n",
      "Requirement already satisfied: idna<4,>=2.5 in c:\\programdata\\anaconda3\\lib\\site-packages (from requests<3,>=2.21.0->tensorboard) (3.3)\n",
      "Requirement already satisfied: certifi>=2017.4.17 in c:\\programdata\\anaconda3\\lib\\site-packages (from requests<3,>=2.21.0->tensorboard) (2022.9.14)\n",
      "Requirement already satisfied: pyasn1<0.5.0,>=0.4.6 in c:\\programdata\\anaconda3\\lib\\site-packages (from pyasn1-modules>=0.2.1->google-auth<3,>=1.6.3->tensorboard) (0.4.8)\n",
      "Requirement already satisfied: oauthlib>=3.0.0 in c:\\users\\ruben\\appdata\\roaming\\python\\python39\\site-packages (from requests-oauthlib>=0.7.0->google-auth-oauthlib<1.1,>=0.5->tensorboard) (3.2.2)\n",
      "Defaulting to user installation because normal site-packages is not writeable\n",
      "Requirement already satisfied: tdqm in c:\\users\\ruben\\appdata\\roaming\\python\\python39\\site-packages (0.0.1)\n",
      "Requirement already satisfied: tqdm in c:\\programdata\\anaconda3\\lib\\site-packages (from tdqm) (4.64.1)\n",
      "Requirement already satisfied: colorama in c:\\programdata\\anaconda3\\lib\\site-packages (from tqdm->tdqm) (0.4.5)\n",
      "Defaulting to user installation because normal site-packages is not writeable\n",
      "Requirement already satisfied: tabulate in c:\\programdata\\anaconda3\\lib\\site-packages (0.8.10)\n"
     ]
    }
   ],
   "execution_count": 1
  },
  {
   "cell_type": "markdown",
   "metadata": {},
   "source": "A continuación, las importamos. Para tener retrocompatibilidad con código creado para OpenAI Gym importamos Gymnasium como Gym "
  },
  {
   "cell_type": "code",
   "metadata": {
    "ExecuteTime": {
     "end_time": "2024-09-15T16:37:25.016591Z",
     "start_time": "2024-09-15T16:37:22.218376Z"
    }
   },
   "source": [
    "import numpy as np\n",
    "import gymnasium as gym\n",
    "import random\n",
    "import matplotlib.pyplot as plt\n",
    "from gymnasium.spaces import Discrete, Box\n",
    "from collections import namedtuple, deque\n",
    "from copy import deepcopy\n",
    "import math\n",
    "import time\n",
    "import torch\n",
    "import torch.nn.functional as F\n",
    "from tabulate import tabulate"
   ],
   "outputs": [],
   "execution_count": 2
  },
  {
   "cell_type": "markdown",
   "metadata": {
    "id": "q3fWjGowWKmV"
   },
   "source": [
    "## 1. Entorno\n",
    "El entorno que vamos a diseñar consiste en un regulador de temperatura. Imaginemos que queremos tener una ducha inteligente que sea capaz de mantener la temperatura en un intervalo concreto (37-39 grados) durante todo el tiempo de baño que fijemos. Cada acción será subir o bajar la temperatura un grado, o mantener la temperatura actual.\n",
    "\n",
    "Concretamente queremos que el regulador de temperatura tenga las siguientes características:\n",
    "    <ul>\n",
    "        <li>La temperatura (i.e. estado) puede oscilar entre los 0 y los 100 grados</li>\n",
    "        <li>La temperatura inicial (i.e. estado inicial) será de 38+-3 grados</li>\n",
    "        <li>La temperatura nunca puede estar a más de 45 grados o menos de 30</li>\n",
    "        <li>La duración del baño debe ser de 3 minutos (180 segundos)</li>\n",
    "        <li>Las acciones posibles seran:\n",
    "            <ul>\n",
    "                <li>0 : bajar temperatura un grado</li>\n",
    "                <li>1 : mantener temperatura</li>\n",
    "                <li>2 : subir temperatura un grado</li>\n",
    "            </ul></li>\n",
    "        <li>La recompensa será de +1 si la temperatura se encuentra entre 37 y 39 grados, de lo contrario será -1</li>\n",
    "        <li>El episodio termina cuando el tiempo de baño se agota (se cumplen los 180 segundos)</li>\n",
    "    </ul>"
   ]
  },
  {
   "cell_type": "markdown",
   "metadata": {
    "id": "Z1yuotpsWKmV"
   },
   "source": "### 1.1. TempControlEnv "
  },
  {
   "cell_type": "code",
   "metadata": {
    "colab": {
     "base_uri": "https://localhost:8080/"
    },
    "executionInfo": {
     "elapsed": 3,
     "status": "ok",
     "timestamp": 1664576950762,
     "user": {
      "displayName": "Luis Esteve Elfau",
      "userId": "04659768458370690763"
     },
     "user_tz": -120
    },
    "id": "nebWbOt2WKmW",
    "outputId": "5144887a-0bcb-4b7c-d463-cb55c808f59f",
    "ExecuteTime": {
     "end_time": "2024-09-15T17:23:05.211607Z",
     "start_time": "2024-09-15T17:23:05.198524Z"
    }
   },
   "source": [
    "class TempControlEnv(gym.Env):\n",
    "    def __init__(self, is_eval = False ):#Flag para saber si el entorno se usa para evaluar o no.\n",
    "        '''\n",
    "        Argumentos:\n",
    "            - espacio de acciones\n",
    "            - espacio de observaciones (se recomienda usar la función Box)\n",
    "            - estado inicial\n",
    "            - duración episodio\n",
    "        '''\n",
    "        self.action_space = Discrete(3) #acciones posibles\n",
    "        self.min_temp = np.array([0])\n",
    "        self.max_temp = np.array([100])\n",
    "        self.observation_space = gym.spaces.Box(low=0, high=100, shape=(1,), dtype=np.float32) \n",
    "        self.state = np.array([38 + random.randint(-3, 3)])  # temperatura inicial como array\n",
    "        self.bath_time = 180 #tiempo del baño (episodio)\n",
    "        self.is_eval = is_eval\n",
    "\n",
    "\n",
    "    def step(self, action):\n",
    "        '''\n",
    "        Argumentos:\n",
    "            - temperatura según acción tomada\n",
    "            - disminución tiempo de baño\n",
    "        '''\n",
    "        self.state += action -1\n",
    "        self.bath_time -= 1\n",
    "\n",
    "        # Comprobar límites temperatura\n",
    "        if self.state < self.min_temp:\n",
    "                self.state = self.min_temp\n",
    "        elif self.state > self.max_temp:\n",
    "            self.state = self.max_temp\n",
    "\n",
    "        if self.state >=37 and self.state <=39:\n",
    "            reward =1\n",
    "        else:\n",
    "            reward = -1\n",
    "\n",
    "\n",
    "        if self.bath_time <= 0:\n",
    "            terminated = True\n",
    "        else:\n",
    "            terminated = False\n",
    "\n",
    "\n",
    "        # Aplicamos ruido a la temperatura (exe: alguien abre el agua caliente de otro grifo\n",
    "        # y altera la temperatura del agua de nuestra ducha)\n",
    "        self.state += random.randint(-1,1)\n",
    "\n",
    "        # Set placeholder for info\n",
    "        # info en blanco\n",
    "        info = {}\n",
    "        if self.state >45 and self.state <30:\n",
    "            truncated = True\n",
    "        else:\n",
    "            truncated = False\n",
    "            \n",
    "        # Return información del paso.\n",
    "        return self.state , reward, terminated, truncated, info\n",
    "\n",
    "\n",
    "    def reset(self,seed = None):\n",
    "        '''\n",
    "        Argumentos:\n",
    "            - resetear temperatura inicial\n",
    "            - resetear tiempo de baño\n",
    "        '''\n",
    "        self.state = np.array([38 + random.randint(-3, 3)])  # Resetear temperatura como array\n",
    "        self.bath_time = 180\n",
    "        return self.state, {}\n",
    "env = TempControlEnv()"
   ],
   "outputs": [],
   "execution_count": 49
  },
  {
   "cell_type": "markdown",
   "metadata": {
    "id": "nActINMkWKmX"
   },
   "source": "Cargamo el entorno TempControlEnv y mostramos el espacio de acciones y el espacio de observaciones. Ejecutar 10 episodios con acciones aleatorias, mostrando el episodio y la recompensa obtenida."
  },
  {
   "cell_type": "code",
   "metadata": {
    "executionInfo": {
     "elapsed": 298,
     "status": "ok",
     "timestamp": 1664576956034,
     "user": {
      "displayName": "Luis Esteve Elfau",
      "userId": "04659768458370690763"
     },
     "user_tz": -120
    },
    "id": "wY_e55sMWKmX",
    "ExecuteTime": {
     "end_time": "2024-09-15T17:23:06.455105Z",
     "start_time": "2024-09-15T17:23:06.417107Z"
    }
   },
   "source": [
    "env = TempControlEnv()\n",
    "\n",
    "# Espacio de acciones\n",
    "print(\"Espacio de acciones es {} \".format(env.action_space))\n",
    "\n",
    "# Espacio de observacions\n",
    "print(\"Espacio de estados es {} \".format(env.observation_space))\n",
    "\n",
    "episodes = 10\n",
    "for episode in range(1, episodes+1):\n",
    "    state = env.reset()[0]\n",
    "    done = False\n",
    "    score = 0\n",
    "    step=0\n",
    "\n",
    "    while not done:\n",
    "        action = env.action_space.sample()\n",
    "        n_state, reward, terminated, truncated, info = env.step(action)\n",
    "        done = terminated or truncated\n",
    "        score+=reward\n",
    "        step+=1\n",
    "\n",
    "    print('Episode:{} Reward:{} Steps:{}'.format(episode, score, step))"
   ],
   "outputs": [
    {
     "name": "stdout",
     "output_type": "stream",
     "text": [
      "Espacio de acciones es Discrete(3) \n",
      "Espacio de estados es Box(0.0, 100.0, (1,), float32) \n",
      "Episode:1 Reward:-170 Steps:180\n",
      "Episode:2 Reward:-144 Steps:180\n",
      "Episode:3 Reward:-170 Steps:180\n",
      "Episode:4 Reward:-134 Steps:180\n",
      "Episode:5 Reward:-168 Steps:180\n",
      "Episode:6 Reward:-174 Steps:180\n",
      "Episode:7 Reward:-172 Steps:180\n",
      "Episode:8 Reward:-122 Steps:180\n",
      "Episode:9 Reward:-150 Steps:180\n",
      "Episode:10 Reward:-166 Steps:180\n"
     ]
    }
   ],
   "execution_count": 50
  },
  {
   "cell_type": "markdown",
   "metadata": {
    "id": "cFIN7bAzWKmX"
   },
   "source": [
    "### 1.2. Ejecución de una DQN con Stable Baseline 3\n",
    "\n",
    "A continuación, realizaremos la ejecución de un episodio del entorno utilizando la libreria Stable Baseline 3\n"
   ]
  },
  {
   "cell_type": "code",
   "metadata": {
    "colab": {
     "base_uri": "https://localhost:8080/"
    },
    "executionInfo": {
     "elapsed": 306,
     "status": "ok",
     "timestamp": 1664576982372,
     "user": {
      "displayName": "Luis Esteve Elfau",
      "userId": "04659768458370690763"
     },
     "user_tz": -120
    },
    "id": "8voYzctFWKmY",
    "outputId": "63bfa313-405b-432e-a1f9-ba8b60754fac",
    "scrolled": true,
    "ExecuteTime": {
     "end_time": "2024-09-15T17:23:10.895507Z",
     "start_time": "2024-09-15T17:23:08.612989Z"
    }
   },
   "source": "!pip install stable_baselines3==2.2.1",
   "outputs": [
    {
     "name": "stdout",
     "output_type": "stream",
     "text": [
      "Defaulting to user installation because normal site-packages is not writeable\n",
      "Requirement already satisfied: stable_baselines3==2.2.1 in c:\\users\\ruben\\appdata\\roaming\\python\\python39\\site-packages (2.2.1)\n",
      "Requirement already satisfied: gymnasium<0.30,>=0.28.1 in c:\\users\\ruben\\appdata\\roaming\\python\\python39\\site-packages (from stable_baselines3==2.2.1) (0.28.1)\n",
      "Requirement already satisfied: numpy>=1.20 in c:\\users\\ruben\\appdata\\roaming\\python\\python39\\site-packages (from stable_baselines3==2.2.1) (1.26.2)\n",
      "Requirement already satisfied: cloudpickle in c:\\programdata\\anaconda3\\lib\\site-packages (from stable_baselines3==2.2.1) (2.0.0)\n",
      "Requirement already satisfied: torch>=1.13 in c:\\users\\ruben\\appdata\\roaming\\python\\python39\\site-packages (from stable_baselines3==2.2.1) (1.13.1)\n",
      "Requirement already satisfied: matplotlib in c:\\programdata\\anaconda3\\lib\\site-packages (from stable_baselines3==2.2.1) (3.5.2)\n",
      "Requirement already satisfied: pandas in c:\\programdata\\anaconda3\\lib\\site-packages (from stable_baselines3==2.2.1) (1.4.4)\n",
      "Requirement already satisfied: jax-jumpy>=1.0.0 in c:\\users\\ruben\\appdata\\roaming\\python\\python39\\site-packages (from gymnasium<0.30,>=0.28.1->stable_baselines3==2.2.1) (1.0.0)\n",
      "Requirement already satisfied: farama-notifications>=0.0.1 in c:\\users\\ruben\\appdata\\roaming\\python\\python39\\site-packages (from gymnasium<0.30,>=0.28.1->stable_baselines3==2.2.1) (0.0.4)\n",
      "Requirement already satisfied: typing-extensions>=4.3.0 in c:\\users\\ruben\\appdata\\roaming\\python\\python39\\site-packages (from gymnasium<0.30,>=0.28.1->stable_baselines3==2.2.1) (4.9.0)\n",
      "Requirement already satisfied: importlib-metadata>=4.8.0 in c:\\programdata\\anaconda3\\lib\\site-packages (from gymnasium<0.30,>=0.28.1->stable_baselines3==2.2.1) (4.11.3)\n",
      "Requirement already satisfied: python-dateutil>=2.7 in c:\\programdata\\anaconda3\\lib\\site-packages (from matplotlib->stable_baselines3==2.2.1) (2.8.2)\n",
      "Requirement already satisfied: fonttools>=4.22.0 in c:\\programdata\\anaconda3\\lib\\site-packages (from matplotlib->stable_baselines3==2.2.1) (4.25.0)\n",
      "Requirement already satisfied: kiwisolver>=1.0.1 in c:\\programdata\\anaconda3\\lib\\site-packages (from matplotlib->stable_baselines3==2.2.1) (1.4.2)\n",
      "Requirement already satisfied: packaging>=20.0 in c:\\programdata\\anaconda3\\lib\\site-packages (from matplotlib->stable_baselines3==2.2.1) (21.3)\n",
      "Requirement already satisfied: pillow>=6.2.0 in c:\\programdata\\anaconda3\\lib\\site-packages (from matplotlib->stable_baselines3==2.2.1) (9.2.0)\n",
      "Requirement already satisfied: pyparsing>=2.2.1 in c:\\programdata\\anaconda3\\lib\\site-packages (from matplotlib->stable_baselines3==2.2.1) (3.0.9)\n",
      "Requirement already satisfied: cycler>=0.10 in c:\\programdata\\anaconda3\\lib\\site-packages (from matplotlib->stable_baselines3==2.2.1) (0.11.0)\n",
      "Requirement already satisfied: pytz>=2020.1 in c:\\users\\ruben\\appdata\\roaming\\python\\python39\\site-packages (from pandas->stable_baselines3==2.2.1) (2023.3.post1)\n",
      "Requirement already satisfied: zipp>=0.5 in c:\\programdata\\anaconda3\\lib\\site-packages (from importlib-metadata>=4.8.0->gymnasium<0.30,>=0.28.1->stable_baselines3==2.2.1) (3.8.0)\n",
      "Requirement already satisfied: six>=1.5 in c:\\programdata\\anaconda3\\lib\\site-packages (from python-dateutil>=2.7->matplotlib->stable_baselines3==2.2.1) (1.16.0)\n"
     ]
    }
   ],
   "execution_count": 51
  },
  {
   "cell_type": "code",
   "metadata": {
    "colab": {
     "base_uri": "https://localhost:8080/"
    },
    "executionInfo": {
     "elapsed": 291,
     "status": "ok",
     "timestamp": 1664576988460,
     "user": {
      "displayName": "Luis Esteve Elfau",
      "userId": "04659768458370690763"
     },
     "user_tz": -120
    },
    "id": "YBznpx4DWKmZ",
    "outputId": "08db4aba-1db7-4e23-fc36-1729d1fc8759",
    "ExecuteTime": {
     "end_time": "2024-09-15T17:24:08.999363Z",
     "start_time": "2024-09-15T17:23:44.096320Z"
    }
   },
   "source": [
    "from stable_baselines3 import DQN\n",
    "from stable_baselines3.common.evaluation import evaluate_policy\n",
    "from stable_baselines3.common.callbacks import EvalCallback\n",
    "\n",
    "model = DQN(\"MlpPolicy\",\n",
    "            env,\n",
    "            learning_starts = 3000 ,\n",
    "            target_update_interval = 1000,\n",
    "            learning_rate = 0.01,\n",
    "            buffer_size = 20000 ,\n",
    "            exploration_fraction = 0.3 ,\n",
    "            tensorboard_log  = './logs')\n",
    "\n",
    "\n",
    "callback = EvalCallback(eval_env = env,\n",
    "                        eval_freq = 4000 ,\n",
    "                        best_model_save_path = './')\n",
    "\n",
    "\n",
    "initial_eval = evaluate_policy(model,env,n_eval_episodes = 5,deterministic = True)\n",
    "model.learn(total_timesteps=50000,\n",
    "            callback = callback,\n",
    "            progress_bar = False)\n",
    "final_eval = evaluate_policy(model,env,n_eval_episodes = 5,deterministic = True)\n",
    "model = DQN.load('best_model.zip')"
   ],
   "outputs": [
    {
     "name": "stdout",
     "output_type": "stream",
     "text": [
      "Eval num_timesteps=4000, episode_reward=-178.00 +/- 2.53\n",
      "Episode length: 180.00 +/- 0.00\n",
      "New best mean reward!\n",
      "Eval num_timesteps=8000, episode_reward=-177.20 +/- 2.40\n",
      "Episode length: 180.00 +/- 0.00\n",
      "New best mean reward!\n",
      "Eval num_timesteps=12000, episode_reward=-149.60 +/- 18.00\n",
      "Episode length: 180.00 +/- 0.00\n",
      "New best mean reward!\n",
      "Eval num_timesteps=16000, episode_reward=-40.40 +/- 21.89\n",
      "Episode length: 180.00 +/- 0.00\n",
      "New best mean reward!\n",
      "Eval num_timesteps=20000, episode_reward=-43.20 +/- 50.43\n",
      "Episode length: 180.00 +/- 0.00\n",
      "Eval num_timesteps=24000, episode_reward=60.80 +/- 20.96\n",
      "Episode length: 180.00 +/- 0.00\n",
      "New best mean reward!\n",
      "Eval num_timesteps=28000, episode_reward=7.60 +/- 37.00\n",
      "Episode length: 180.00 +/- 0.00\n",
      "Eval num_timesteps=32000, episode_reward=180.00 +/- 0.00\n",
      "Episode length: 180.00 +/- 0.00\n",
      "New best mean reward!\n",
      "Eval num_timesteps=36000, episode_reward=180.00 +/- 0.00\n",
      "Episode length: 180.00 +/- 0.00\n",
      "Eval num_timesteps=40000, episode_reward=-178.40 +/- 0.80\n",
      "Episode length: 180.00 +/- 0.00\n",
      "Eval num_timesteps=44000, episode_reward=-0.40 +/- 16.22\n",
      "Episode length: 180.00 +/- 0.00\n",
      "Eval num_timesteps=48000, episode_reward=179.60 +/- 0.80\n",
      "Episode length: 180.00 +/- 0.00\n"
     ]
    }
   ],
   "execution_count": 54
  },
  {
   "metadata": {
    "ExecuteTime": {
     "end_time": "2024-09-15T17:24:09.044778Z",
     "start_time": "2024-09-15T17:24:09.000365Z"
    }
   },
   "cell_type": "code",
   "source": [
    "for i_episode in range(1):\n",
    "        observation, _ = env.reset()\n",
    "        total_reward = 0\n",
    "        t=0\n",
    "        done = False\n",
    "        while not done:\n",
    "            action, _states = model.predict(observation,deterministic = True)\n",
    "            observation, reward, done,terminated, info = env.step(action)\n",
    "            done = done or terminated\n",
    "            total_reward += reward\n",
    "            t=t+1\n",
    "        print('Episode {}\\tAverage Score: {:.2f} \\tFinished in {} timesteps \\n '.format(i_episode, total_reward, t+1), end=\"\")"
   ],
   "outputs": [
    {
     "name": "stdout",
     "output_type": "stream",
     "text": [
      "Episode 0\tAverage Score: 180.00 \tFinished in 181 timesteps \n",
      " "
     ]
    }
   ],
   "execution_count": 55
  },
  {
   "metadata": {
    "ExecuteTime": {
     "end_time": "2024-09-15T17:25:02.837640Z",
     "start_time": "2024-09-15T17:25:00.814667Z"
    }
   },
   "cell_type": "code",
   "source": [
    "def test_model(ag):\n",
    "    all_rewards = []\n",
    "    last_temp = []\n",
    "    for i_episode in range(100):\n",
    "        observation, _ = env.reset()\n",
    "\n",
    "        total_reward = 0\n",
    "        t=0\n",
    "        while True:\n",
    "            #env.render()\n",
    "            action, _states = model.predict(observation,deterministic = True)\n",
    "            observation, reward, done, truncated, info = env.step(action)\n",
    "            total_reward += reward\n",
    "            t=t+1\n",
    "            if done:\n",
    "                last_temp.append(observation)\n",
    "                all_rewards.append(total_reward)\n",
    "                break\n",
    "        #print('Episode {}\\tAverage Score: {:.2f} \\tFinished in {} timesteps \\n '.format(i_episode, total_reward, t+1), end=\"\")\n",
    "\n",
    "    env.close()\n",
    "\n",
    "    return all_rewards, last_temp\n",
    "\n",
    "rewards_test_DQNTemp = test_model(model)\n",
    "def plot_test(rewards, th):\n",
    "    plt.figure(figsize=(8,4))\n",
    "    plt.plot(rewards, label='Rewards')\n",
    "    plt.axhline(th, color='r', label=\"Reward threshold\")\n",
    "    plt.xlabel('Episodes')\n",
    "    plt.ylabel('Rewards')\n",
    "    plt.legend(loc=\"upper left\")\n",
    "    plt.show()\n",
    "\n",
    "plot_test(rewards_test_DQNTemp[0], 180)\n",
    "mean_reward_dqn = sum(rewards_test_DQNTemp[0]) / len(rewards_test_DQNTemp[0])"
   ],
   "outputs": [
    {
     "data": {
      "text/plain": [
       "<Figure size 800x400 with 1 Axes>"
      ],
      "image/png": "[encoded data removed]"
     },
     "metadata": {},
     "output_type": "display_data"
    }
   ],
   "execution_count": 57
  }
 ],
 "metadata": {
  "celltoolbar": "Raw Cell Format",
  "colab": {
   "collapsed_sections": [],
   "provenance": []
  },
  "kernelspec": {
   "display_name": "Python 3",
   "language": "python",
   "name": "python3"
  },
  "language_info": {
   "codemirror_mode": {
    "name": "ipython",
    "version": 3
   },
   "file_extension": ".py",
   "mimetype": "text/x-python",
   "name": "python",
   "nbconvert_exporter": "python",
   "pygments_lexer": "ipython3",
   "version": "3.11.3"
  }
 },
 "nbformat": 4,
 "nbformat_minor": 0
}
