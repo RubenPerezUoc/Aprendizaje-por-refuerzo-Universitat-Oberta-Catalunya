{
 "cells": [
  {
   "cell_type": "markdown",
   "metadata": {},
   "source": [
    "<div style=\"width: 100%; clear: both;\">\n",
    "<div style=\"float: left; width: 50%;\">\n",
    "<img src=\"http://www.uoc.edu/portal/_resources/common/imatges/marca_UOC/UOC_Masterbrand.jpg\", align=\"left\">\n",
    "</div>\n",
    "<div style=\"float: right; width: 50%;\">\n",
    "<p style=\"margin: 0; padding-top: 22px; text-align:right;\">M2.883 · Aprenentatge per reforç</p>\n",
    "<p style=\"margin: 0; text-align:right;\">Màster universitari de Ciència de Dades</p>\n",
    "<p style=\"margin: 0; text-align:right; padding-button: 100px;\">Estudis d'Informàtica, Multimèdia i Telecomunicació</p>\n",
    "</div>\n",
    "</div>\n",
    "<div style=\"width:100%;\">&nbsp;</div>"
   ]
  },
  {
   "cell_type": "markdown",
   "metadata": {},
   "source": [
    "# Mòdul 9: Exemple de DQN en l'entorn CartPole\n",
    "\n",
    "\n",
    "En aquest _notebook_ veurem un exemple d'implementació d'una Deep Q-Network (DQN) utilitzant un entorn ja predefinit en OpenAI.\n",
    "\n",
    "Tant per a aquest exemple com per a les pràctiques posteriors s'utilitzarà el <i>framework</i> de __Pytorch__. "
   ]
  },
  {
   "cell_type": "markdown",
   "metadata": {},
   "source": [
    "## 1. Entorn CartPole"
   ]
  },
  {
   "cell_type": "markdown",
   "metadata": {},
   "source": [
    "En aquest exemple usarem un entorn ja definit en la llibreria d'OpenAI, però cal tenir present que en altres problemes més concrets l'entorn necessitarà ser definit.\n",
    "\n",
    "CartPole consisteix a aprendre a controlar un objecte. El joc consta d'un carretó i d'un pal col·locat verticalment damunt del carretó. El pal s'aguanta únicament per la gravetat, mentre que el carretó es mou a dreta i esquerra sense parar. L'objectiu de l'agent és controlar la velocitat del carretó augmentant-la o disminuint-la amb la condició d'evitar que el pal caigui."
   ]
  },
  {
   "cell_type": "markdown",
   "metadata": {},
   "source": [
    "### 1.1. Establiment de l'entorn"
   ]
  },
  {
   "cell_type": "markdown",
   "metadata": {},
   "source": [
    "En primer lloc, carregarem la llibreria __gym__ i inicialitzarem l'entorn."
   ]
  },
  {
   "cell_type": "code",
   "execution_count": null,
   "metadata": {},
   "outputs": [],
   "source": [
    "import gym\n",
    "\n",
    "env_global = gym.envs.make(\"CartPole-v0\")"
   ]
  },
  {
   "cell_type": "markdown",
   "metadata": {},
   "source": [
    "Cada entorn té definit tot el necessari perquè un agent pugui aprendre: tenim un joc que funciona d'una manera determinada i podem entrenar un agent perquè aprengui a jugar a aquest joc sense cap més ajuda que la d'experimentar-hi observant, actuant i rebent recompenses. Així, l'entorn del joc ja defineix quines accions es poden prendre, quines situacions poden presentar-se, en què consistirà la recompensa, etc. "
   ]
  },
  {
   "cell_type": "markdown",
   "metadata": {},
   "source": [
    "A continuació, podem visualitzar l'entorn de __CartPole__ generant un bucle sobre uns pocs episodis i, en acabar, el tanquem. "
   ]
  },
  {
   "cell_type": "code",
   "execution_count": null,
   "metadata": {},
   "outputs": [],
   "source": [
    "#Visualitzem l'entorn\n",
    "for i_episode in range(15):\n",
    "    observation = env_global.reset()\n",
    "    for t in range(100):\n",
    "        #env.render()  #EL RENDER NOMÉS FUNCIONA EN LOCAL: comentar línia si no s'està en local.\n",
    "        print(observation)\n",
    "        action = env_global.action_space.sample() #acció aleatòria\n",
    "        observation, reward, done, info = env_global.step(action) #execució de l'acció triada\n",
    "        if done:\n",
    "            print(\"Episode finished after {} timesteps\".format(t+1)) \n",
    "            break\n",
    "\n",
    "env_global.close() #tanquem la visualització de l'entorn"
   ]
  },
  {
   "cell_type": "markdown",
   "metadata": {},
   "source": [
    "La recompensa és 1 per cada pas donat, inclòs l'estat terminal. Es considera l'entorn resolt quan la mitjana de les recompenses és major o igual a 195.0 després de 100 intents consecutius."
   ]
  },
  {
   "cell_type": "markdown",
   "metadata": {},
   "source": [
    "## 2. Construcció d'una DQN: ensenyar un agent a jugar"
   ]
  },
  {
   "cell_type": "markdown",
   "metadata": {},
   "source": [
    "La construcció d'una DQN per ensenyar un agent a jugar a **CartPole** té, com hem vist en el mòdul didàctic, els passos següents:\n",
    "\n",
    "<ol>\n",
    "    <li> Definir el model de xarxa neuronal. </li>\n",
    "    <li> Definir l'agent: com s'ha de comportar, quan ha de seleccionar una acció i com. </li>\n",
    "    <li> Fixar hiperparàmetres. </li>\n",
    "    <li> Entrenar l'agent.  </li>\n",
    "    \n",
    "</ol>\n"
   ]
  },
  {
   "cell_type": "markdown",
   "metadata": {},
   "source": [
    "Començarem important la llibreria per treballar en **Pytorch** i altres llibreries necessàries:"
   ]
  },
  {
   "cell_type": "code",
   "execution_count": null,
   "metadata": {},
   "outputs": [],
   "source": [
    "import torch\n",
    "import numpy as np\n",
    "import matplotlib.pyplot as plt"
   ]
  },
  {
   "cell_type": "markdown",
   "metadata": {},
   "source": [
    "### 2.1. Definició del model"
   ]
  },
  {
   "cell_type": "markdown",
   "metadata": {},
   "source": [
    "El primer pas és definir la nostra xarxa neuronal, la DQN. Per a aquest exemple, usarem una xarxa neuronal molt senzilla amb tres capes lineals i dues capes ReLU, a més de l'optimizador Adam.\n",
    "\n",
    "També indicarem la possibilitat de treballar amb **CPU** o **CUDA** per si es té l'opció, ja que en aprenentatge per reforç la majoria dels processos solen requerir molta màquina, i l'acceleració per maquinari és normalment necessària. **Aquest exemple es pot executar amb CPU**.\n",
    "\n",
    "\n",
    "Com s'explicava en el mòdul teòric, perquè l'aprenentatge prosperi és important que les aproximacions de _Q_ siguin prou bones perquè les experiències aportin informació rellevant a l'agent. Si no s'aconsegueixen bons valors, l'agent corre el risc d'estancar-se entre decisions dolentes sense mostrar cap millora. Per a això s'introdueix el **mètode <i>e-greedy</i>**, que permet a l'agent explorar accions aleatòries durant un temps a l'inici de l'entrenament i facilita que vagi passant a utilitzar l'aproximació de _Q_ a poc a poc (explotació). Recordem que aquest comportament ve definit per l'hiperparàmetre de probabilitat <i>epsilon</i>."
   ]
  },
  {
   "cell_type": "code",
   "execution_count": null,
   "metadata": {
    "id": "GOMW16j-ZFDX"
   },
   "outputs": [],
   "source": [
    "class DQN(torch.nn.Module):\n",
    "    \n",
    "    def __init__(self, env, learning_rate=1e-3, device='cpu'):\n",
    "        super(DQN, self).__init__()\n",
    "        self.device = device\n",
    "        self.n_inputs = env.observation_space.shape[0]\n",
    "        self.n_outputs = env.action_space.n\n",
    "        self.actions = np.arange(env.action_space.n)\n",
    "        self.learning_rate = learning_rate\n",
    "        \n",
    "        ### Construcció de la xarxa neuronal\n",
    "        self.model = torch.nn.Sequential(\n",
    "            torch.nn.Linear(self.n_inputs, 16, bias=True),\n",
    "            torch.nn.ReLU(),\n",
    "            torch.nn.Linear(16, 16, bias=True),\n",
    "            torch.nn.ReLU(),\n",
    "            torch.nn.Linear(16, self.n_outputs, bias=True))\n",
    "        \n",
    "        self.optimizer = torch.optim.Adam(self.parameters(), lr=self.learning_rate)\n",
    "        \n",
    "        \n",
    "        ### S'ofereix l'opció de treballar amb CUDA\n",
    "        if self.device == 'cuda':\n",
    "            self.model.cuda()\n",
    "            \n",
    "    \n",
    "    ### Mètode e-greedy\n",
    "    def get_action(self, state, epsilon=0.05):\n",
    "        if np.random.random() < epsilon:\n",
    "            action = np.random.choice(self.actions)  # acció aleatòria\n",
    "        else:\n",
    "            qvals = self.get_qvals(state)  # acció a partir del càlcul del valor de Q per a aquesta acció\n",
    "            action= torch.max(qvals, dim=-1)[1].item()\n",
    "        return action\n",
    "    \n",
    "    \n",
    "    def get_qvals(self, state):\n",
    "        if type(state) is tuple:\n",
    "            state = np.array([np.ravel(s) for s in state])\n",
    "        state_t = torch.FloatTensor(state).to(device=self.device)\n",
    "        return self.model(state_t)"
   ]
  },
  {
   "cell_type": "markdown",
   "metadata": {},
   "source": [
    "#### 2.1.1. _Buffer_ de repetició d'experiències"
   ]
  },
  {
   "cell_type": "markdown",
   "metadata": {},
   "source": [
    "Un altre problema de l'algorisme bàsic de la DQN era la seqüencialitat de les dades: els estats estan molt correlacionats i la xarxa neuronal no pot funcionar bé amb tanta correlació. Introduint un **<i>buffer</i> de repetició d'experiències**, permetem que s'emmagatzemin unes quantes experiències passades i que es passi un subconjunt aleatori d'aquestes experiències a la xarxa neuronal. Al seu torn, el *buffer* s'ha d'anar alimentant d'experiències noves conforme l'agent va aprenent."
   ]
  },
  {
   "cell_type": "markdown",
   "metadata": {},
   "source": [
    "Primer importem les funcions `deque` i `namedtuple` de la llibreria `collections`. El *deque* és un objecte que emmagatzema valors fins a un límit fixat. Quan s'arriba al límit, el *deque* elimina el primer valor perquè pugui entrar-hi un de nou, i així successivament, de manera que es facilita, en el nostre cas, la retroalimentació del *buffer* amb experiències més noves i cada vegada més rellevants."
   ]
  },
  {
   "cell_type": "code",
   "execution_count": null,
   "metadata": {},
   "outputs": [],
   "source": [
    "from collections import namedtuple, deque"
   ]
  },
  {
   "cell_type": "markdown",
   "metadata": {},
   "source": [
    "Definim el __<i>buffer</i> de repetició d'experiències__:"
   ]
  },
  {
   "cell_type": "code",
   "execution_count": null,
   "metadata": {
    "id": "9F0QBdxTZKJl"
   },
   "outputs": [],
   "source": [
    "class experienceReplayBuffer:\n",
    "\n",
    "    def __init__(self, memory_size=50000, burn_in=10000):\n",
    "        self.memory_size = memory_size\n",
    "        self.burn_in = burn_in\n",
    "        self.buffer = namedtuple('Buffer', \n",
    "            field_names=['state', 'action', 'reward', 'done', 'next_state'])\n",
    "        self.replay_memory = deque(maxlen=memory_size)\n",
    "\n",
    "    ##Creem una llista d'índexs aleatoris i empaquetem les experiències en <i>arrays<i> de Numpy (això facilita el càlcul posterior de la pèrdua)\n",
    "    def sample_batch(self, batch_size=32):\n",
    "        samples = np.random.choice(len(self.replay_memory), batch_size, \n",
    "                                   replace=False)\n",
    "        # Use asterisk operator to unpack deque \n",
    "        batch = zip(*[self.replay_memory[i] for i in samples])\n",
    "        return batch\n",
    "\n",
    "    ## S'afegeixen les noves experiències \n",
    "    def append(self, state, action, reward, done, next_state):\n",
    "        self.replay_memory.append(\n",
    "            self.buffer(state, action, reward, done, next_state))\n",
    "\n",
    "    ## Emplenem el <i>buffer<i> amb experiències aleatòries a l'inici de l'entrenament\n",
    "    def burn_in_capacity(self):\n",
    "        return len(self.replay_memory) / self.burn_in"
   ]
  },
  {
   "cell_type": "markdown",
   "metadata": {},
   "source": [
    "El *burn-in* ens permet emplenar el *buffer* a l'inici de l'entrenament (quan l'agent encara no ha començat a explorar) amb experiències aleatòries perquè estigui prou ple per començar a entrenar amb una varietat d'informació bastant àmplia. "
   ]
  },
  {
   "cell_type": "markdown",
   "metadata": {},
   "source": [
    "### 2.2. Definició de l'agent"
   ]
  },
  {
   "cell_type": "markdown",
   "metadata": {},
   "source": [
    "Una vegada tenim el model definit, només ens queda definir el comportament de l'agent, la manera com aprèn.\n",
    "\n",
    "Recordem que l'última millora que fèiem a la DQN bàsica i que ens permetia establir l'algorisme DQN final era la introducció d'una **xarxa objectiu**. Amb aquesta segona xarxa (còpia exacta de la principal), calculem el valor objectiu _Q'_, mentre que amb la xarxa principal calculem el valor de _Q_ actual. I cada cert temps se sincronitzen les dues xarxes. Així, aconseguim evitar que l'agent s'estanqui en una regió pel fet que la diferència entre estats (correlació) sigui tan petita que sempre triï la mateixa acció i que acabi per aprendre erròniament. \n",
    "\n",
    "Bàsicament, el procés que seguirà l'agent serà el següent:\n",
    "<ol>\n",
    "    <li> Emplenar el <i>buffer</i> amb unes quantes experiències aleatòries. </li>\n",
    "    <li> Interactuar amb l'entorn (fer un pas): \n",
    "        <ul>\n",
    "            <li> Prendre acció segons la probabilitat <i>epsilon</i>. </li>\n",
    "            <li> Emmagatzemar la informació en el <i>buffer</i>. </li>\n",
    "            <li> Obtenir la recompensa si està al final de l'episodi en qüestió. </li>\n",
    "        </ul>\n",
    "    </li>\n",
    "    <li> Actualitzar la xarxa neuronal amb la freqüència que s'estableixi i calcular la pèrdua. </li>\n",
    "    <li> Sincronitzar la xarxa principal amb la xarxa objectiu amb la freqüència que s'estableixi. </li>\n",
    "    <li> Calcular la mitjana de les recompenses dels últims <i>X</i> episodis (generalment, 100). </li>\n",
    "    <li> Modificar el valor de <i>epsilon</i> per afavorir l'explotació enfront de l'exploració. </li>\n",
    "</ol>\n",
    "\n",
    "L'agent repetirà aquest procés fins que aconsegueixi l'objectiu a partir del qual es considera que ha après a jugar (en **CartPole** és 195, com s'indica en la variable `env.spec.reward_threshold`) o fins que s'esgoti el límit màxim d'episodis establert (hiperparàmetre fixat)."
   ]
  },
  {
   "cell_type": "code",
   "execution_count": null,
   "metadata": {},
   "outputs": [],
   "source": [
    "from copy import deepcopy, copy"
   ]
  },
  {
   "cell_type": "code",
   "execution_count": null,
   "metadata": {
    "id": "BPcOyH4GY1mN"
   },
   "outputs": [],
   "source": [
    "class DQNAgent:\n",
    "    \n",
    "    def __init__(self, env, dnnetwork, buffer, epsilon=0.1, eps_decay=0.99, batch_size=32):\n",
    "        \n",
    "        self.env = env\n",
    "        self.dnnetwork = dnnetwork\n",
    "        self.target_network = deepcopy(dnnetwork) # xarxa objectiu (còpia de la principal)\n",
    "        self.buffer = buffer\n",
    "        self.epsilon = epsilon\n",
    "        self.eps_decay = eps_decay\n",
    "        self.batch_size = batch_size\n",
    "        self.nblock = 100 # bloc dels X últims episodis dels quals es calcularà la mitjana de recompensa\n",
    "        self.reward_threshold = self.env.spec.reward_threshold # recompensa mitjana a partir de la qual es considera\n",
    "                                                               # que l'agent ha après a jugar\n",
    "        self.initialize()\n",
    "    \n",
    "    \n",
    "    def initialize(self):\n",
    "        self.update_loss = []\n",
    "        self.training_rewards = []\n",
    "        self.mean_training_rewards = []\n",
    "        self.sync_eps = []\n",
    "        self.total_reward = 0\n",
    "        self.step_count = 0\n",
    "        self.state0 = self.env.reset()\n",
    "        \n",
    "    \n",
    "    ## Prenem una nova acció\n",
    "    def take_step(self, eps, mode='train'):\n",
    "        if mode == 'explore': \n",
    "            # acció aleatòria en el burn-in i en la fase d'exploració (epsilon)\n",
    "            action = self.env.action_space.sample() \n",
    "        else:\n",
    "            # acció a partir del valor de Q (elecció de l'acció amb millor Q)\n",
    "            action = self.dnnetwork.get_action(self.state0, eps)\n",
    "            self.step_count += 1\n",
    "            \n",
    "        # Fem l'acció i obtenim el nou estat i la recompensa\n",
    "        new_state, reward, done, _ = self.env.step(action)\n",
    "        self.total_reward += reward\n",
    "        self.buffer.append(self.state0, action, reward, done, new_state) # guardem experiència en el buffer\n",
    "        self.state0 = new_state.copy()\n",
    "        \n",
    "        if done:\n",
    "            self.state0 = self.env.reset()\n",
    "        return done\n",
    "\n",
    "    \n",
    "        \n",
    "    ## Entrenament\n",
    "    def train(self, gamma=0.99, max_episodes=50000, \n",
    "              batch_size=32,\n",
    "              dnn_update_frequency=4,\n",
    "              dnn_sync_frequency=2000):\n",
    "        \n",
    "        self.gamma = gamma\n",
    "\n",
    "        # Emplenem el buffer amb N experiències aleatòries ()\n",
    "        print(\"Filling replay buffer...\")\n",
    "        while self.buffer.burn_in_capacity() < 1:\n",
    "            self.take_step(self.epsilon, mode='explore')\n",
    "\n",
    "            \n",
    "        episode = 0\n",
    "        training = True\n",
    "        print(\"Training...\")\n",
    "        while training:\n",
    "            self.state0 = self.env.reset()\n",
    "            self.total_reward = 0\n",
    "            gamedone = False\n",
    "            while gamedone == False:\n",
    "                # L'agent pren una acció\n",
    "                gamedone = self.take_step(self.epsilon, mode='train')\n",
    "               \n",
    "                # Actualitzem la xarxa principal segons la freqüència establerta\n",
    "                if self.step_count % dnn_update_frequency == 0:\n",
    "                    self.update()\n",
    "                # Sincronitzem la xarxa principal i la xarxa objectiu segons la freqüència establerta\n",
    "                if self.step_count % dnn_sync_frequency == 0:\n",
    "                    self.target_network.load_state_dict(\n",
    "                        self.dnnetwork.state_dict())\n",
    "                    self.sync_eps.append(episode)\n",
    "                    \n",
    "                \n",
    "                if gamedone:                   \n",
    "                    episode += 1\n",
    "                    self.training_rewards.append(self.total_reward) # guardem les recompenses obtingudes\n",
    "                    self.update_loss = []\n",
    "                    mean_rewards = np.mean(   # calculem la mitjana de recompensa dels últims X episodis\n",
    "                        self.training_rewards[-self.nblock:])\n",
    "                    self.mean_training_rewards.append(mean_rewards)\n",
    "\n",
    "                    print(\"\\rEpisode {:d} Mean Rewards {:.2f} Epsilon {}\\t\\t\".format(\n",
    "                        episode, mean_rewards, self.epsilon), end=\"\")\n",
    "                    \n",
    "                    # Comprovem que encara queden episodis\n",
    "                    if episode >= max_episodes:\n",
    "                        training = False\n",
    "                        print('\\nEpisode limit reached.')\n",
    "                        break\n",
    "                    \n",
    "                    # Acaba el joc si la mitjana de recompenses ha arribat al llindar fixat per a aquest joc  \n",
    "                    if mean_rewards >= self.reward_threshold:\n",
    "                        training = False\n",
    "                        print('\\nEnvironment solved in {} episodes!'.format(\n",
    "                            episode))\n",
    "                        break\n",
    "                    \n",
    "                    # Actualitzem epsilon segons la velocitat de decaïment fixada\n",
    "                    self.epsilon = max(self.epsilon * self.eps_decay, 0.01)\n",
    "                    \n",
    "                \n",
    "    ## Càlcul de la pèrdua                   \n",
    "    def calculate_loss(self, batch):\n",
    "        # Separem les variables de l'experiència i les convertim en tensors \n",
    "        states, actions, rewards, dones, next_states = [i for i in batch] \n",
    "        rewards_vals = torch.FloatTensor(rewards).to(device=self.dnnetwork.device) \n",
    "        actions_vals = torch.LongTensor(np.array(actions)).reshape(-1,1).to(\n",
    "            device=self.dnnetwork.device)\n",
    "        dones_t = torch.ByteTensor(dones).to(device=self.dnnetwork.device)\n",
    "        \n",
    "        # Obtenim els valors de Q de la xarxa principal\n",
    "        qvals = torch.gather(self.dnnetwork.get_qvals(states), 1, actions_vals)\n",
    "        # Obtenim els valors de Q objectiu. El paràmetre detach() evita que aquests valors actualitzin la xarxa objectiu\n",
    "        qvals_next = torch.max(self.target_network.get_qvals(next_states),\n",
    "                               dim=-1)[0].detach()\n",
    "        qvals_next[dones_t] = 0 # 0 en estats terminals\n",
    "        \n",
    "        # Calculem l'equació de Bellman\n",
    "        expected_qvals = self.gamma * qvals_next + rewards_vals\n",
    "        \n",
    "        # Calculem la pèrdua\n",
    "        loss = torch.nn.MSELoss()(qvals, expected_qvals.reshape(-1,1))\n",
    "        return loss\n",
    "    \n",
    "\n",
    "    \n",
    "    def update(self):\n",
    "        self.dnnetwork.optimizer.zero_grad()  # eliminem qualsevol gradient passat\n",
    "        batch = self.buffer.sample_batch(batch_size=self.batch_size) # seleccionem un conjunt del <i>buffer<i>\n",
    "        loss = self.calculate_loss(batch) # calculem la pèrdua\n",
    "        loss.backward() # fem la diferència per obtenir els gradients\n",
    "        self.dnnetwork.optimizer.step() # apliquem els gradients a la xarxa neuronal\n",
    "        # Guardem els valors de pèrdua\n",
    "        if self.dnnetwork.device == 'cuda':\n",
    "            self.update_loss.append(loss.detach().cpu().numpy())\n",
    "        else:\n",
    "            self.update_loss.append(loss.detach().numpy())\n",
    "            \n",
    "\n",
    "\n",
    "    def plot_rewards(self):\n",
    "        plt.figure(figsize=(12,8))\n",
    "        plt.plot(self.training_rewards, label='Rewards')\n",
    "        plt.plot(self.mean_training_rewards, label='Mean Rewards')\n",
    "        plt.axhline(self.reward_threshold, color='r', label=\"Reward threshold\")\n",
    "        plt.xlabel('Episodes')\n",
    "        plt.ylabel('Rewards')\n",
    "        plt.legend(loc=\"upper left\")\n",
    "        plt.show()\n"
   ]
  },
  {
   "cell_type": "markdown",
   "metadata": {},
   "source": [
    "### 2.3. Hiperparàmetres"
   ]
  },
  {
   "cell_type": "markdown",
   "metadata": {},
   "source": [
    "Fixem els hiperparàmetres necessaris:"
   ]
  },
  {
   "cell_type": "code",
   "execution_count": null,
   "metadata": {
    "id": "2625S-lDWxag"
   },
   "outputs": [],
   "source": [
    "lr = 0.001            #Velocitat d'aprenentatge\n",
    "MEMORY_SIZE = 100000  #Màxima capacitat del buffer\n",
    "MAX_EPISODES = 5000   #Nombre màxim d'episodis (l'agent ha d'aprendre abans d'arribar a aquest valor)\n",
    "EPSILON = 1           #Valor inicial d'epsilon\n",
    "EPSILON_DECAY = .99   #Decaïment d'epsilon\n",
    "GAMMA = 0.99          #Valor gamma de l'equació de Bellman\n",
    "BATCH_SIZE = 32       #Conjunt a agafar del buffer per a la xarxa neuronal\n",
    "BURN_IN = 1000        #Nombre d'episodis inicials usats per emplenar el buffer abans d'entrenar\n",
    "DNN_UPD = 1           #Freqüència d'actualització de la xarxa neuronal \n",
    "DNN_SYNC = 2500       #Freqüència de sincronització de pesos entre la xarxa neuronal i la xarxa objectiu"
   ]
  },
  {
   "cell_type": "markdown",
   "metadata": {},
   "source": [
    "### 2.4. Entrenament"
   ]
  },
  {
   "cell_type": "markdown",
   "metadata": {},
   "source": [
    "Creem el *buffer* de repetició d'experiències:"
   ]
  },
  {
   "cell_type": "code",
   "execution_count": null,
   "metadata": {},
   "outputs": [],
   "source": [
    "buffer = experienceReplayBuffer(memory_size=MEMORY_SIZE, burn_in=BURN_IN)"
   ]
  },
  {
   "cell_type": "markdown",
   "metadata": {},
   "source": [
    "Carreguem el model de xarxa neuronal:"
   ]
  },
  {
   "cell_type": "code",
   "execution_count": null,
   "metadata": {},
   "outputs": [],
   "source": [
    "dqn = DQN(env_global, learning_rate=lr)"
   ]
  },
  {
   "cell_type": "markdown",
   "metadata": {},
   "source": [
    "Creem el nostre agent:"
   ]
  },
  {
   "cell_type": "code",
   "execution_count": null,
   "metadata": {},
   "outputs": [],
   "source": [
    "agent = DQNAgent(env_global, dqn, buffer, EPSILON, EPSILON_DECAY, BATCH_SIZE)"
   ]
  },
  {
   "cell_type": "markdown",
   "metadata": {},
   "source": [
    "Entrenem l'agent amb els hiperparàmetres establerts:"
   ]
  },
  {
   "cell_type": "code",
   "execution_count": null,
   "metadata": {
    "colab": {
     "base_uri": "https://localhost:8080/"
    },
    "id": "agusIfEMZlKi",
    "outputId": "47b8253f-5857-4b63-d60c-442b983d1d3c"
   },
   "outputs": [],
   "source": [
    "agent.train(gamma=GAMMA, max_episodes=MAX_EPISODES, \n",
    "              batch_size=BATCH_SIZE, dnn_update_frequency=DNN_UPD, dnn_sync_frequency=DNN_SYNC)"
   ]
  },
  {
   "cell_type": "markdown",
   "metadata": {},
   "source": [
    "### 2.5. Representació de l'aprenentatge de l'agent"
   ]
  },
  {
   "cell_type": "code",
   "execution_count": null,
   "metadata": {
    "colab": {
     "base_uri": "https://localhost:8080/",
     "height": 497
    },
    "id": "9ghHg3rH3MTV",
    "outputId": "a7c5d4cb-5e98-45ac-ca70-8dcfdffaa86a",
    "scrolled": true
   },
   "outputs": [],
   "source": [
    "agent.plot_rewards()"
   ]
  }
 ],
 "metadata": {
  "colab": {
   "collapsed_sections": [],
   "name": "OriginalBlog_mod.ipynb",
   "provenance": []
  },
  "kernelspec": {
   "display_name": "M2983PRAX007",
   "language": "python",
   "name": "python3"
  },
  "language_info": {
   "codemirror_mode": {
    "name": "ipython",
    "version": 3
   },
   "file_extension": ".py",
   "mimetype": "text/x-python",
   "name": "python",
   "nbconvert_exporter": "python",
   "pygments_lexer": "ipython3",
   "version": "3.7.15"
  },
  "vscode": {
   "interpreter": {
    "hash": "a6adb791819b312cb85d3f7f95bade2111798fa581516345d5c0e47cc9c9fdca"
   }
  }
 },
 "nbformat": 4,
 "nbformat_minor": 1
}
