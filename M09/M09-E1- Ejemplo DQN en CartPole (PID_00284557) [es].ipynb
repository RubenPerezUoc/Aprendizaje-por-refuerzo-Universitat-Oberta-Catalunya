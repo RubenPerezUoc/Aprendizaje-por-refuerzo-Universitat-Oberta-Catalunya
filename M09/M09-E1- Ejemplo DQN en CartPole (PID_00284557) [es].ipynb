{
 "cells": [
  {
   "cell_type": "markdown",
   "metadata": {},
   "source": [
    "<div style=\"width: 100%; clear: both;\">\n",
    "<div style=\"float: left; width: 50%;\">\n",
    "<img src=\"http://www.uoc.edu/portal/_resources/common/imatges/marca_UOC/UOC_Masterbrand.jpg\", align=\"left\">\n",
    "</div>\n",
    "<div style=\"float: right; width: 50%;\">\n",
    "<p style=\"margin: 0; padding-top: 22px; text-align:right;\">M2.883 · Aprendizaje por refuerzo</p>\n",
    "<p style=\"margin: 0; text-align:right;\">Máster universitario de Ciencia de Datos (<i>Data Science</i>)</p>\n",
    "<p style=\"margin: 0; text-align:right; padding-button: 100px;\">Estudios de Informática, Multimedia y Telecomunicación</p>\n",
    "</div>\n",
    "</div>\n",
    "<div style=\"width:100%;\">&nbsp;</div>"
   ]
  },
  {
   "cell_type": "markdown",
   "metadata": {},
   "source": [
    "# Módulo 9: Ejemplo de DQN en CartPole\n",
    "\n",
    "\n",
    "En este _notebook_ vamos a ver un ejemplo de implementación de una Deep Q-Network (DQN) utilizando un entorno ya predefinido en OpenAI.\n",
    "\n",
    "Tanto para este ejemplo como para las posteriores prácticas se utilizará el <i>framework</i> de __Pytorch__. "
   ]
  },
  {
   "cell_type": "markdown",
   "metadata": {},
   "source": [
    "## 1. Entorno CartPole"
   ]
  },
  {
   "cell_type": "markdown",
   "metadata": {},
   "source": [
    "En este ejemplo usaremos un entorno ya definido en la librería de OpenAI, pero hay que tener presente que en otros problemas más concretos el entorno necesitará ser definido.\n",
    "\n",
    "CartPole consiste en aprender a controlar un objeto. El juego consta de una carretilla y de un palo colocado verticalmente encima de la carretilla. El palo se aguanta únicamente por la gravedad, mientras que la carretilla se mueve a derecha e izquierda sin parar. El objetivo del agente es controlar la velocidad de la carretilla, aumentándola o disminuyéndola con tal de evitar que el palo se caiga."
   ]
  },
  {
   "cell_type": "markdown",
   "metadata": {},
   "source": [
    "### 1.1. Establecer el entorno"
   ]
  },
  {
   "cell_type": "markdown",
   "source": [
    "En primer lugar instalaremos la librería __gym__ .\n"
   ],
   "metadata": {
    "collapsed": false
   }
  },
  {
   "cell_type": "code",
   "execution_count": 104,
   "outputs": [],
   "source": [
    "#!pip install gymnasium"
   ],
   "metadata": {
    "collapsed": false,
    "ExecuteTime": {
     "end_time": "2023-09-21T08:56:17.807426584Z",
     "start_time": "2023-09-21T08:56:17.723452255Z"
    }
   }
  },
  {
   "cell_type": "markdown",
   "metadata": {},
   "source": [
    "A continuación inicializaremos el entorno."
   ]
  },
  {
   "cell_type": "code",
   "execution_count": 105,
   "metadata": {
    "ExecuteTime": {
     "end_time": "2023-09-21T08:56:17.807737516Z",
     "start_time": "2023-09-21T08:56:17.729482054Z"
    }
   },
   "outputs": [],
   "source": [
    "import gymnasium as gym\n",
    "env = gym.make('CartPole-v1')"
   ]
  },
  {
   "cell_type": "markdown",
   "metadata": {},
   "source": [
    "Cada entorno tiene definido todo lo necesario para que un agente pueda aprender: tenemos un juego que funciona de una manera determinada y nosotros podemos entrenar a un agente para que aprenda a jugar a ese juego sin ninguna ayuda más que la de experimentar con él observando, actuando y recibiendo recompensas. Así, el entorno del juego ya define qué acciones se pueden tomar, qué situaciones pueden presentarse, en qué consistirá la recompensa, etc. "
   ]
  },
  {
   "cell_type": "markdown",
   "metadata": {},
   "source": [
    "A continuación, podemos visualizar el entorno de __CartPole__ generando un bucle sobre unos pocos episodios y, al terminar, lo cerramos. "
   ]
  },
  {
   "cell_type": "code",
   "execution_count": 106,
   "metadata": {
    "ExecuteTime": {
     "end_time": "2023-09-21T08:56:17.875059339Z",
     "start_time": "2023-09-21T08:56:17.771215278Z"
    }
   },
   "outputs": [
    {
     "name": "stdout",
     "output_type": "stream",
     "text": [
      "(array([-0.00480639, -0.04759216, -0.02398721,  0.02727973], dtype=float32), {})\n",
      "[-0.00575823  0.14786543 -0.02344162 -0.27287388]\n",
      "[-0.00280093 -0.04691433 -0.02889909  0.01232429]\n",
      "[-0.00373921  0.14860989 -0.02865261 -0.28933474]\n",
      "[-0.00076702  0.34412846 -0.0344393  -0.5909149 ]\n",
      "[ 0.00611555  0.14950518 -0.0462576  -0.30927625]\n",
      "[ 0.00910566 -0.04492821 -0.05244313 -0.03153304]\n",
      "[ 0.00820709  0.15090506 -0.05307379 -0.34029028]\n",
      "[ 0.01122519 -0.04342315 -0.05987959 -0.0648048 ]\n",
      "[ 0.01035673 -0.23763774 -0.06117569  0.20840089]\n",
      "[ 0.00560398 -0.431834   -0.05700767  0.48117593]\n",
      "[-0.0030327  -0.62610686 -0.04738415  0.75536066]\n",
      "[-0.01555484 -0.43036488 -0.03227694  0.44815153]\n",
      "[-0.02416214 -0.62501574 -0.02331391  0.73048794]\n",
      "[-0.03666246 -0.8198079  -0.00870415  1.015743  ]\n",
      "[-0.05305861 -1.0148127   0.01161071  1.3056802 ]\n",
      "[-0.07335486 -0.81983984  0.03772432  1.0166541 ]\n",
      "[-0.08975166 -1.0154439   0.0580574   1.3209398 ]\n",
      "[-0.11006054 -1.2112496   0.0844762   1.6312127 ]\n",
      "[-0.13428552 -1.4072561   0.11710045  1.9489807 ]\n",
      "[-0.16243066 -1.6034133   0.15608007  2.2755501 ]\n",
      "[-0.19449893 -1.7996054   0.20159106  2.6119623 ]\n",
      "Episode finished after 22 timesteps\n",
      "(array([ 0.01651471, -0.00636654, -0.03203547,  0.03093659], dtype=float32), {})\n",
      "[ 0.01638738  0.18919982 -0.03141673 -0.27167925]\n",
      "[ 0.02017137 -0.00546007 -0.03685032  0.0109315 ]\n",
      "[ 0.02006217 -0.2000347  -0.03663169  0.29176375]\n",
      "[ 0.01606148 -0.0044101  -0.03079641 -0.01224359]\n",
      "[ 0.01597328  0.19113967 -0.03104129 -0.31448188]\n",
      "[ 0.01979607  0.38668972 -0.03733093 -0.61679035]\n",
      "[ 0.02752986  0.19210865 -0.04966673 -0.3360948 ]\n",
      "[ 0.03137204  0.38790095 -0.05638863 -0.6440171 ]\n",
      "[ 0.03913005  0.5837616  -0.06926897 -0.9539105 ]\n",
      "[ 0.05080529  0.7797436  -0.08834718 -1.2675275 ]\n",
      "[ 0.06640016  0.975876   -0.11369773 -1.5865189 ]\n",
      "[ 0.08591767  0.78227437 -0.1454281  -1.3313466 ]\n",
      "[ 0.10156316  0.58925474 -0.17205504 -1.0874789 ]\n",
      "[ 0.11334826  0.7861759  -0.1938046  -1.4288342 ]\n",
      "Episode finished after 15 timesteps\n",
      "(array([ 0.01826581, -0.02084564, -0.02535536,  0.0498163 ], dtype=float32), {})\n",
      "[ 0.0178489   0.17463054 -0.02435903 -0.2507574 ]\n",
      "[ 0.02134151 -0.02013525 -0.02937418  0.03414377]\n",
      "[ 0.0209388  -0.21482392 -0.0286913   0.31741604]\n",
      "[ 0.01664233 -0.01930531 -0.02234298  0.01582474]\n",
      "[ 0.01625622  0.17612982 -0.02202649 -0.28382307]\n",
      "[ 0.01977882  0.3715589  -0.02770295 -0.58337086]\n",
      "[ 0.02721     0.5670578  -0.03937037 -0.8846503 ]\n",
      "[ 0.03855115  0.76269156 -0.05706337 -1.1894454 ]\n",
      "[ 0.05380498  0.5683537  -0.08085228 -0.9151807 ]\n",
      "[ 0.06517205  0.37441283 -0.0991559  -0.6489644 ]\n",
      "[ 0.07266031  0.57076603 -0.11213518 -0.9711516 ]\n",
      "[ 0.08407563  0.3773131  -0.13155821 -0.71569335]\n",
      "[ 0.0916219   0.18423375 -0.14587209 -0.46714368]\n",
      "[ 0.09530657  0.38108292 -0.15521495 -0.8020159 ]\n",
      "[ 0.10292823  0.577954   -0.17125528 -1.1392226 ]\n",
      "[ 0.11448731  0.3854337  -0.19403973 -0.9047699 ]\n",
      "Episode finished after 17 timesteps\n",
      "(array([ 0.02319525,  0.01694341, -0.02305718,  0.01334283], dtype=float32), {})\n",
      "[ 0.02353412  0.2123883  -0.02279032 -0.2865248 ]\n",
      "[ 0.02778189  0.01759867 -0.02852082 -0.001116  ]\n",
      "[ 0.02813386 -0.1771029  -0.02854314  0.28243357]\n",
      "[ 0.0245918   0.01841432 -0.02289446 -0.01911332]\n",
      "[ 0.02496009  0.213857   -0.02327673 -0.3189309 ]\n",
      "[ 0.02923723  0.01907415 -0.02965535 -0.03367851]\n",
      "[ 0.02961871 -0.17561026 -0.03032892  0.2495023 ]\n",
      "[ 0.02610651 -0.37028626 -0.02533887  0.53246665]\n",
      "[ 0.01870078 -0.17481725 -0.01468954  0.23190846]\n",
      "[ 0.01520444 -0.36972627 -0.01005137  0.51992184]\n",
      "[ 7.8099114e-03 -5.6470525e-01  3.4706722e-04  8.0942059e-01]\n",
      "[-0.00348419 -0.36958808  0.01653548  0.51684684]\n",
      "[-0.01087596 -0.5649389   0.02687242  0.8146942 ]\n",
      "[-0.02217473 -0.37019506  0.0431663   0.53058344]\n",
      "[-0.02957864 -0.5658968   0.05377797  0.8365495 ]\n",
      "[-0.04089657 -0.7617104   0.07050896  1.1456485 ]\n",
      "[-0.05613078 -0.5675766   0.09342193  0.87588376]\n",
      "[-0.06748232 -0.3738402   0.11093961  0.61397254]\n",
      "[-0.07495911 -0.5703232   0.12321905  0.93943465]\n",
      "[-0.08636558 -0.37705842  0.14200775  0.68787014]\n",
      "[-0.09390675 -0.18416317  0.15576515  0.44304994]\n",
      "[-0.09759001  0.00845135  0.16462615  0.20323609]\n",
      "[-0.09742098 -0.18859531  0.16869088  0.54299164]\n",
      "[-0.10119289 -0.3856362   0.1795507   0.88371783]\n",
      "[-0.10890561 -0.5826823   0.19722506  1.2270402 ]\n",
      "Episode finished after 26 timesteps\n",
      "(array([-0.03487238,  0.02922161, -0.03236809,  0.00687897], dtype=float32), {})\n",
      "[-0.03428794 -0.16542155 -0.03223052  0.28917623]\n",
      "[-0.03759637  0.03014483 -0.02644699 -0.01349513]\n",
      "[-0.03699348  0.22563589 -0.02671689 -0.31440368]\n",
      "[-0.03248076  0.42112803 -0.03300497 -0.6153911 ]\n",
      "[-0.0240582   0.22648239 -0.04531279 -0.33328333]\n",
      "[-0.01952855  0.03203369 -0.05197845 -0.05522706]\n",
      "[-0.01888788  0.22786091 -0.053083   -0.36384597]\n",
      "[-0.01433066  0.03353199 -0.06035992 -0.08836225]\n",
      "[-0.01366002 -0.16067515 -0.06212716  0.18468294]\n",
      "[-0.01687352  0.03527816 -0.0584335  -0.12693362]\n",
      "[-0.01616796  0.23118642 -0.06097218 -0.43746412]\n",
      "[-0.01154423  0.42711604 -0.06972146 -0.74872714]\n",
      "[-0.00300191  0.6231269  -0.084696   -1.0625107 ]\n",
      "[ 0.00946063  0.8192619  -0.10594621 -1.3805294 ]\n",
      "[ 0.02584587  0.6256098  -0.1335568  -1.12277   ]\n",
      "[ 0.03835806  0.4324674  -0.1560122  -0.8747854 ]\n",
      "[ 0.04700741  0.23977119 -0.17350791 -0.63493335]\n",
      "[ 0.05180284  0.4368342  -0.18620658 -0.9768453 ]\n",
      "[ 0.06053952  0.24463108 -0.20574348 -0.74795336]\n",
      "Episode finished after 20 timesteps\n",
      "(array([ 0.03735378,  0.02545624,  0.00951452, -0.0122073 ], dtype=float32), {})\n",
      "[ 0.0378629  -0.16980086  0.00927038  0.28346232]\n",
      "[ 0.03446689 -0.3650538   0.01493962  0.5790546 ]\n",
      "[ 0.02716581 -0.17014436  0.02652072  0.29111516]\n",
      "[ 0.02376292 -0.36563423  0.03234302  0.59204304]\n",
      "[ 0.01645024 -0.17097963  0.04418388  0.30972102]\n",
      "[ 0.01303064 -0.36670235  0.0503783   0.6160044 ]\n",
      "[ 0.0056966  -0.5624906   0.06269839  0.9241192 ]\n",
      "[-0.00555322 -0.3682691   0.08118077  0.65178055]\n",
      "[-0.0129186  -0.5644222   0.09421638  0.96888214]\n",
      "[-0.02420704 -0.37068275  0.11359403  0.70722055]\n",
      "[-0.0316207  -0.5671798   0.12773843  1.0333914 ]\n",
      "[-0.04296429 -0.7637477   0.14840627  1.363294  ]\n",
      "[-0.05823925 -0.96038425  0.17567214  1.6984781 ]\n",
      "Episode finished after 14 timesteps\n",
      "(array([ 0.04881398, -0.04629412,  0.03466758,  0.01214858], dtype=float32), {})\n",
      "[ 0.0478881  -0.24189566  0.03491055  0.3155648 ]\n",
      "[ 0.04305018 -0.43749705  0.04122185  0.6190497 ]\n",
      "[ 0.03430025 -0.6331698   0.05360284  0.9244253 ]\n",
      "[ 0.02163685 -0.43881124  0.07209135  0.6490579 ]\n",
      "[ 0.01286062 -0.24476369  0.0850725   0.3799191 ]\n",
      "[ 0.00796535 -0.4409842   0.09267089  0.6981666 ]\n",
      "[-0.00085433 -0.24726106  0.10663421  0.43603504]\n",
      "[-0.00579955 -0.05379745  0.11535492  0.178779  ]\n",
      "[-0.0068755   0.139501    0.1189305  -0.07540248]\n",
      "[-0.00408548 -0.05710737  0.11742245  0.25231004]\n",
      "[-0.00522763  0.1361592   0.12246865 -0.00115061]\n",
      "[-0.00250445 -0.06048689  0.12244564  0.32752508]\n",
      "[-0.00371418 -0.25711998  0.12899613  0.6561755 ]\n",
      "[-0.00885658 -0.4537793   0.14211965  0.98653334]\n",
      "[-0.01793217 -0.260817    0.16185032  0.74165076]\n",
      "[-0.02314851 -0.4577591   0.17668334  1.0805796 ]\n",
      "[-0.03230369 -0.26535335  0.19829492  0.8481391 ]\n",
      "Episode finished after 18 timesteps\n",
      "(array([ 0.02928553,  0.02579372, -0.02099589, -0.0222874 ], dtype=float32), {})\n",
      "[ 0.0298014  -0.16902094 -0.02144164  0.26369783]\n",
      "[ 0.02642098 -0.3638304  -0.01616768  0.5495415 ]\n",
      "[ 0.01914437 -0.55872154 -0.00517685  0.8370869 ]\n",
      "[ 0.00796994 -0.7537724   0.01156488  1.1281374 ]\n",
      "[-0.0071055  -0.55880386  0.03412763  0.839104  ]\n",
      "[-0.01828158 -0.36416408  0.05090971  0.557346  ]\n",
      "[-0.02556486 -0.16979241  0.06205663  0.28112718]\n",
      "[-0.02896071  0.02439198  0.06767917  0.00864423]\n",
      "[-0.02847287  0.21848132  0.06785206 -0.2619408 ]\n",
      "[-0.02410324  0.02245973  0.06261324  0.05134821]\n",
      "[-0.02365405 -0.17350154  0.06364021  0.3631104 ]\n",
      "[-0.02712408  0.0206609   0.07090241  0.0911539 ]\n",
      "[-0.02671086 -0.17540193  0.07272549  0.40533707]\n",
      "[-0.0302189  -0.3714758   0.08083224  0.7200329 ]\n",
      "[-0.03764842 -0.17755972  0.09523289  0.45384732]\n",
      "[-0.04119961 -0.3738902   0.10430983  0.7749648 ]\n",
      "[-0.04867741 -0.18034591  0.11980914  0.51683784]\n",
      "[-0.05228433 -0.37693307  0.13014589  0.8447444 ]\n",
      "[-0.059823   -0.18380424  0.14704078  0.59565604]\n",
      "[-0.06349908 -0.38064483  0.1589539   0.93080515]\n",
      "[-0.07111198 -0.5775135   0.17757     1.2689213 ]\n",
      "[-0.08266225 -0.7744019   0.20294842  1.6115416 ]\n",
      "Episode finished after 23 timesteps\n",
      "(array([ 0.03675211, -0.04115012,  0.04732496, -0.04918529], dtype=float32), {})\n",
      "[ 0.03592911 -0.2369176   0.04634126  0.2580455 ]\n",
      "[ 0.03119076 -0.04248682  0.05150217 -0.01966812]\n",
      "[ 0.03034102  0.15186015  0.05110881 -0.29566708]\n",
      "[ 0.03337822 -0.04395175  0.04519546  0.01268668]\n",
      "[ 0.03249919  0.15049388  0.0454492  -0.26540098]\n",
      "[ 0.03550907  0.34493867  0.04014118 -0.5434095 ]\n",
      "[ 0.04240784  0.14927627  0.02927299 -0.23835401]\n",
      "[ 0.04539337  0.34396806  0.02450591 -0.5216616 ]\n",
      "[ 0.05227273  0.1485099   0.01407268 -0.22135833]\n",
      "[ 0.05524293 -0.04681034  0.00964551  0.07573026]\n",
      "[ 0.05430672  0.148172    0.01116011 -0.21389394]\n",
      "[ 0.05727016  0.34313264  0.00688224 -0.50303566]\n",
      "[ 0.06413281  0.14791436 -0.00317848 -0.20819183]\n",
      "[ 0.0670911   0.34308162 -0.00734231 -0.5018757 ]\n",
      "[ 0.07395273  0.14806394 -0.01737983 -0.21151568]\n",
      "[ 0.07691401 -0.04680527 -0.02161014  0.07563457]\n",
      "[ 0.07597791  0.14861971 -0.02009745 -0.22378734]\n",
      "[ 0.0789503   0.34402305 -0.0245732  -0.52274144]\n",
      "[ 0.08583076  0.14925544 -0.03502803 -0.23790197]\n",
      "[ 0.08881587  0.34485984 -0.03978607 -0.54142475]\n",
      "[ 0.09571306  0.54051775 -0.05061456 -0.8463734 ]\n",
      "[ 0.10652342  0.3461215  -0.06754202 -0.57002676]\n",
      "[ 0.11344585  0.5421224  -0.07894256 -0.88320005]\n",
      "[ 0.1242883   0.34815618 -0.09660656 -0.6163418 ]\n",
      "[ 0.13125142  0.5444856  -0.1089334  -0.937821  ]\n",
      "[ 0.14214113  0.7408944  -0.12768982 -1.262651  ]\n",
      "[ 0.15695903  0.5476151  -0.15294284 -1.0125312 ]\n",
      "[ 0.16791132  0.35482755 -0.17319345 -0.7715156 ]\n",
      "[ 0.17500788  0.55185574 -0.18862377 -1.1133012 ]\n",
      "Episode finished after 30 timesteps\n",
      "(array([-0.02392712, -0.02293338, -0.02608784, -0.02268014], dtype=float32), {})\n",
      "[-0.02438579  0.1725528  -0.02654145 -0.32347858]\n",
      "[-0.02093473 -0.02218136 -0.03301102 -0.03928248]\n",
      "[-0.02137836 -0.21681477 -0.03379667  0.2428051 ]\n",
      "[-0.02571465 -0.02122677 -0.02894057 -0.06034369]\n",
      "[-0.02613919 -0.21592209 -0.03014744  0.22306964]\n",
      "[-0.03045763 -0.0203825  -0.02568605 -0.07896847]\n",
      "[-0.03086528  0.17509808 -0.02726542 -0.37964347]\n",
      "[-0.02736332  0.37059638 -0.03485829 -0.680797  ]\n",
      "[-0.01995139  0.5661847  -0.04847423 -0.9842475 ]\n",
      "[-0.0086277   0.37174448 -0.06815918 -0.7071756 ]\n",
      "[-0.00119281  0.17762966 -0.08230269 -0.43670273]\n",
      "[ 0.00235978 -0.0162367  -0.09103674 -0.17105721]\n",
      "[ 0.00203505 -0.20994571 -0.09445789  0.09157523]\n",
      "[-0.00216386 -0.0136057  -0.09262638 -0.22935124]\n",
      "[-0.00243598  0.18270943 -0.0972134  -0.54975486]\n",
      "[ 0.00121821  0.37905282 -0.1082085  -0.87141514]\n",
      "[ 0.00879927  0.18555579 -0.1256368  -0.6146184 ]\n",
      "[ 0.01251038 -0.00760751 -0.13792917 -0.36399734]\n",
      "[ 0.01235823 -0.20052727 -0.14520912 -0.11778872]\n",
      "[ 0.00834769 -0.39330247 -0.14756489  0.12578924]\n",
      "[ 0.00048164 -0.19640853 -0.14504911 -0.20956872]\n",
      "[-0.00344653 -0.38919082 -0.14924048  0.03407297]\n",
      "[-0.01123035 -0.19227888 -0.14855902 -0.30172572]\n",
      "[-0.01507593  0.00461365 -0.15459354 -0.6373274 ]\n",
      "[-0.01498365 -0.18805313 -0.16734008 -0.3970434 ]\n",
      "[-0.01874472  0.00899856 -0.17528096 -0.7374608 ]\n",
      "[-0.01856474 -0.18332537 -0.19003017 -0.50466436]\n",
      "[-0.02223125 -0.3753328  -0.20012346 -0.27737102]\n",
      "[-0.02973791 -0.5671211  -0.20567088 -0.05387453]\n",
      "[-0.04108033 -0.7587915  -0.20674837  0.1675299 ]\n",
      "[-0.05625616 -0.5614025  -0.20339777 -0.1826    ]\n",
      "[-0.06748421 -0.36403915 -0.20704977 -0.5319298 ]\n",
      "Episode finished after 33 timesteps\n",
      "(array([ 0.0015257 , -0.01084166,  0.03156838, -0.04888135], dtype=float32), {})\n",
      "[ 0.00130886  0.18381374  0.03059076 -0.3314394 ]\n",
      "[ 0.00498514  0.3784872   0.02396197 -0.6143207 ]\n",
      "[ 0.01255488  0.57326627  0.01167555 -0.8993613 ]\n",
      "[ 0.02402021  0.37798804 -0.00631167 -0.6030314 ]\n",
      "[ 0.03157997  0.5731977  -0.0183723  -0.89769566]\n",
      "[ 0.04304392  0.7685638  -0.03632621 -1.1960965 ]\n",
      "[ 0.0584152   0.9641367  -0.06024814 -1.4999399 ]\n",
      "[ 0.07769793  1.1599365  -0.09024694 -1.810809  ]\n",
      "[ 0.10089666  1.3559409  -0.12646312 -2.1301157 ]\n",
      "[ 0.12801549  1.5520706  -0.16906543 -2.459042  ]\n",
      "Episode finished after 11 timesteps\n",
      "(array([ 0.01526661, -0.02676865,  0.01213583,  0.01827917], dtype=float32), {})\n",
      "[ 0.01473124  0.16817717  0.01250142 -0.2705502 ]\n",
      "[ 0.01809478 -0.02712092  0.00709041  0.02604939]\n",
      "[ 0.01755236  0.16789864  0.0076114  -0.26438802]\n",
      "[ 0.02091034 -0.02733112  0.00232364  0.03068586]\n",
      "[ 0.02036371 -0.22248632  0.00293736  0.324101  ]\n",
      "[ 0.01591399 -0.41764998  0.00941938  0.6177088 ]\n",
      "[ 0.00756099 -0.6129022   0.02177355  0.9133435 ]\n",
      "[-0.00469706 -0.4180815   0.04004042  0.62758255]\n",
      "[-0.01305869 -0.6137387   0.05259207  0.9326019 ]\n",
      "[-0.02533346 -0.80952936  0.07124411  1.2413367 ]\n",
      "[-0.04152405 -1.00549     0.09607085  1.55546   ]\n",
      "[-0.06163385 -0.8116414   0.12718004  1.2942294 ]\n",
      "[-0.07786667 -1.0081291   0.15306464  1.6238708 ]\n",
      "[-0.09802926 -0.8151043   0.18554205  1.3825442 ]\n",
      "Episode finished after 15 timesteps\n",
      "(array([-0.02238504, -0.03027152, -0.01194669,  0.03689991], dtype=float32), {})\n",
      "[-0.02299047 -0.22522013 -0.01120869  0.32578972]\n",
      "[-0.02749487 -0.4201807  -0.0046929   0.6149169 ]\n",
      "[-0.03589849 -0.22499351  0.00760544  0.32075965]\n",
      "[-0.04039836 -0.42022294  0.01402064  0.6158313 ]\n",
      "[-0.04880282 -0.61553794  0.02633726  0.91289693]\n",
      "[-0.06111358 -0.8110061   0.0445952   1.2137398 ]\n",
      "[-0.0773337  -1.0066743   0.06886999  1.5200568 ]\n",
      "[-0.09746718 -0.81244904  0.09927113  1.2496414 ]\n",
      "[-0.11371616 -1.0086933   0.12426396  1.5716964 ]\n",
      "[-0.13389003 -0.8152539   0.15569788  1.3202144 ]\n",
      "[-0.1501951  -0.62240463  0.18210217  1.0800301 ]\n",
      "[-0.1626432  -0.81940204  0.20370278  1.4238827 ]\n",
      "Episode finished after 13 timesteps\n",
      "(array([ 0.04173552, -0.01444326,  0.02981724, -0.0303577 ], dtype=float32), {})\n",
      "[ 0.04144666  0.18023868  0.02921008 -0.31348583]\n",
      "[ 0.04505143 -0.01528694  0.02294037 -0.01173598]\n",
      "[ 0.04474569  0.17949863  0.02270565 -0.29709357]\n",
      "[ 0.04833566 -0.01593951  0.01676377  0.00266296]\n",
      "[ 0.04801688  0.17893806  0.01681704 -0.284684  ]\n",
      "[ 0.05159564  0.37381616  0.01112335 -0.5720159 ]\n",
      "[ 5.9071958e-02  5.6878042e-01 -3.1696275e-04 -8.6117393e-01]\n",
      "[ 0.07044756  0.76390666 -0.01754044 -1.1539565 ]\n",
      "[ 0.0857257   0.5690178  -0.04061957 -0.8668248 ]\n",
      "[ 0.09710605  0.3744715  -0.05795607 -0.5871849 ]\n",
      "[ 0.10459548  0.5703552  -0.06969976 -0.89754665]\n",
      "[ 0.11600259  0.7663492  -0.08765069 -1.211299  ]\n",
      "[ 0.13132957  0.96248645 -0.11187667 -1.5301118 ]\n",
      "[ 0.1505793   1.1587656  -0.14247891 -1.855513  ]\n",
      "[ 0.17375462  1.3551366  -0.17958917 -2.188832  ]\n",
      "Episode finished after 16 timesteps\n",
      "(array([ 0.04848929,  0.02837409,  0.00973708, -0.00806472], dtype=float32), {})\n",
      "[ 0.04905678 -0.16688614  0.00957578  0.2876744 ]\n",
      "[ 0.04571905  0.02809795  0.01532927 -0.0019731 ]\n",
      "[ 0.04628101 -0.16724046  0.01528981  0.29550672]\n",
      "[0.0429362  0.02766023 0.02119994 0.00768489]\n",
      "[ 0.04348941 -0.16775924  0.02135364  0.30698055]\n",
      "[ 0.04013422 -0.36317885  0.02749325  0.6063206 ]\n",
      "[ 0.03287065 -0.16845192  0.03961967  0.3224226 ]\n",
      "[0.02950161 0.02608411 0.04606812 0.04249269]\n",
      "[ 0.03002329  0.22051622  0.04691797 -0.23530681]\n",
      "[ 0.03443361  0.41493753  0.04221183 -0.512829  ]\n",
      "[ 0.04273237  0.21924724  0.03195525 -0.20714848]\n",
      "[ 0.04711731  0.41389802  0.02781228 -0.48958233]\n",
      "[ 0.05539527  0.21839496  0.01802064 -0.18826543]\n",
      "[ 0.05976317  0.41325453  0.01425533 -0.47520953]\n",
      "[ 0.06802826  0.2179342   0.00475114 -0.17806788]\n",
      "[0.07238694 0.02274459 0.00118978 0.11611007]\n",
      "[ 0.07284184 -0.1723944   0.00351198  0.40916812]\n",
      "[0.06939395 0.02267759 0.01169534 0.11759448]\n",
      "[ 0.0698475  -0.17260996  0.01404723  0.41394413]\n",
      "[0.0663953  0.02231009 0.02232612 0.12572265]\n",
      "[ 0.06684151  0.21710521  0.02484057 -0.15983386]\n",
      "[ 0.07118361  0.41186288  0.02164389 -0.44457787]\n",
      "[ 0.07942086  0.60667205  0.01275233 -0.7303603 ]\n",
      "[ 0.09155431  0.41137615 -0.00185487 -0.4336913 ]\n",
      "[ 0.09978183  0.60652435 -0.0105287  -0.72695833]\n",
      "[ 0.11191232  0.4115495  -0.02506787 -0.43760774]\n",
      "[ 0.1201433   0.60701716 -0.03382002 -0.7380863 ]\n",
      "[ 0.13228364  0.41237816 -0.04858175 -0.45623592]\n",
      "[ 0.14053121  0.21797554 -0.05770646 -0.17925346]\n",
      "[ 0.14489073  0.02372482 -0.06129153  0.09468133]\n",
      "[ 0.14536522  0.21966925 -0.05939791 -0.21669185]\n",
      "[ 0.1497586   0.02544452 -0.06373174  0.05667876]\n",
      "[ 0.1502675  -0.16870847 -0.06259817  0.32859254]\n",
      "[ 0.14689332 -0.362886   -0.05602632  0.60089654]\n",
      "[ 0.13963561 -0.5571813  -0.04400839  0.875419  ]\n",
      "[ 0.12849198 -0.36148962 -0.02650001  0.56923145]\n",
      "[ 0.12126219 -0.16600621 -0.01511538  0.2683192 ]\n",
      "[ 0.11794207 -0.36090922 -0.00974899  0.5561966 ]\n",
      "[ 0.11072388 -0.16565177  0.00137494  0.26045814]\n",
      "[ 0.10741084  0.02945053  0.0065841  -0.03179081]\n",
      "[ 0.10799985  0.22447744  0.00594828 -0.32238913]\n",
      "[ 0.1124894  0.0292713 -0.0004995 -0.0278363]\n",
      "[ 0.11307482  0.22440042 -0.00105623 -0.32067677]\n",
      "[ 0.11756284  0.02929352 -0.00746976 -0.02832714]\n",
      "[ 0.11814871  0.22452179 -0.0080363  -0.32335746]\n",
      "[ 0.12263914  0.02951519 -0.01450345 -0.03321966]\n",
      "[ 0.12322944 -0.16539581 -0.01516785  0.25485224]\n",
      "[ 0.11992153  0.02993939 -0.0100708  -0.04257604]\n",
      "[ 0.12052032  0.22520429 -0.01092232 -0.33841932]\n",
      "[ 0.12502441  0.03023945 -0.01769071 -0.0492006 ]\n",
      "[ 0.12562919  0.22561055 -0.01867472 -0.34741217]\n",
      "[ 0.1301414   0.4209931  -0.02562296 -0.6459249 ]\n",
      "[ 0.13856126  0.22623736 -0.03854146 -0.36141956]\n",
      "[ 0.14308602  0.42188534 -0.04576986 -0.666002  ]\n",
      "[ 0.15152372  0.617613   -0.0590899  -0.97273767]\n",
      "[ 0.16387598  0.4233316  -0.07854465 -0.69918644]\n",
      "[ 0.17234261  0.2293814  -0.09252837 -0.4322265 ]\n",
      "[ 0.17693023  0.03568302 -0.10117291 -0.17008637]\n",
      "[ 0.1776439   0.23209661 -0.10457464 -0.49289426]\n",
      "[ 0.18228583  0.42852604 -0.11443252 -0.8166177 ]\n",
      "[ 0.19085635  0.23514114 -0.13076487 -0.56200737]\n",
      "[ 0.19555917  0.04207325 -0.14200503 -0.3132134 ]\n",
      "[ 0.19640064  0.23890246 -0.1482693  -0.64709467]\n",
      "[ 0.20117868  0.04612337 -0.16121118 -0.40453035]\n",
      "[ 0.20210116  0.24312046 -0.1693018  -0.74338555]\n",
      "[ 0.20696357  0.44012424 -0.1841695  -1.0842035 ]\n",
      "[ 0.21576606  0.6371347  -0.20585357 -1.4285619 ]\n",
      "Episode finished after 68 timesteps\n"
     ]
    }
   ],
   "source": [
    "#Visualizamos el entorno\n",
    "for i_episode in range(15):\n",
    "    observation = env.reset()\n",
    "    for t in range(100):\n",
    "        env.render() #EL RENDER SÓLO FUNCIONA EN LOCAL: comentar línea si no se está en local.\n",
    "        print(observation)\n",
    "        action = env.action_space.sample() #acción aleatoria\n",
    "        observation, reward, terminated, truncated, info = env.step(action) #ejecución de la acción elegida\n",
    "        if  terminated or truncated:\n",
    "            print(\"Episode finished after {} timesteps\".format(t+1)) \n",
    "            break\n",
    "env.close() #cerramos la visualización del entorno"
   ]
  },
  {
   "cell_type": "markdown",
   "metadata": {},
   "source": [
    "La recompensa es 1 por cada paso dado, incluyendo el estado terminal. Se considera el entorno resuelto cuando la media de las recompensas es mayor o igual a 195.0 tras 100 intentos consecutivos."
   ]
  },
  {
   "cell_type": "markdown",
   "metadata": {},
   "source": [
    "## 2. Construcción de una DQN: enseñar a un agente a jugar"
   ]
  },
  {
   "cell_type": "markdown",
   "metadata": {},
   "source": [
    "La construcción de una DQN para enseñar a un agente a jugar a **CartPole** pasa, como hemos visto en el módulo didáctico, por los siguientes pasos:\n",
    "\n",
    "<ol>\n",
    "    <li> Definir el modelo de red neuronal. </li>\n",
    "    <li> Definir el agente: cómo se debe comportar, cuándo debe seleccionar una acción y cómo. </li>\n",
    "    <li> Fijar hiperparámetros. </li>\n",
    "    <li> Entrenar al agente.  </li>\n",
    "    \n",
    "</ol>\n"
   ]
  },
  {
   "cell_type": "markdown",
   "metadata": {},
   "source": [
    "Empezaremos importando la librería para trabajar en **Pytorch** y otras librerías necesarias:"
   ]
  },
  {
   "cell_type": "code",
   "execution_count": 107,
   "metadata": {
    "ExecuteTime": {
     "end_time": "2023-09-21T08:56:17.882820436Z",
     "start_time": "2023-09-21T08:56:17.792083637Z"
    }
   },
   "outputs": [],
   "source": [
    "#!pip install torch\n",
    "import torch\n",
    "import numpy as np\n",
    "#!pip install matplotlib\n",
    "import matplotlib.pyplot as plt"
   ]
  },
  {
   "cell_type": "markdown",
   "metadata": {},
   "source": [
    "### 2.1. Definición del modelo"
   ]
  },
  {
   "cell_type": "markdown",
   "metadata": {},
   "source": [
    "El primer paso es definir nuestra red neuronal, la DQN. Para este ejemplo, usaremos una red neuronal muy sencilla con tres capas lineales y dos capas ReLU, además del optimizador Adam.\n",
    "\n",
    "También indicaremos la posibilidad de trabajar con **CPU** o **CUDA** por si se tiene la opción, puesto que en aprendizaje por refuerzo la mayoría de los procesos suelen requerir mucha máquina y la aceleración por hardware es normalmente necesaria. **Este ejemplo se puede ejecutar con CPU**.\n",
    "\n",
    "\n",
    "Como se explicaba en el módulo teórico, para que el aprendizaje prospere es importante que las aproximaciones de _Q_ sean lo suficientemente buenas para que las experiencias aporten información relevante al agente. Si no se consiguen buenos valores, el agente corre el riesgo de estancarse entre decisiones malas sin mostrar ninguna mejora. Para ello se introduce el **método <i>e-greedy</i>**, que permite al agente explorar acciones aleatorias durante un tiempo al inicio del entrenamiento y facilita que vaya pasando a utilizar la aproximación de _Q_ poco a poco (explotación). Recordemos que este comportamiento viene definido por el hiperparámetro de probabilidad <i>epsilon</i>."
   ]
  },
  {
   "cell_type": "code",
   "execution_count": 108,
   "metadata": {
    "id": "GOMW16j-ZFDX",
    "ExecuteTime": {
     "end_time": "2023-09-21T08:56:17.888820989Z",
     "start_time": "2023-09-21T08:56:17.792200726Z"
    }
   },
   "outputs": [],
   "source": [
    "class DQN(torch.nn.Module):\n",
    "    \n",
    "    def __init__(self, env, learning_rate=1e-3, device='cpu'):\n",
    "        super(DQN, self).__init__()\n",
    "        self.device = device\n",
    "        self.n_inputs = env.observation_space.shape[0]\n",
    "        self.n_outputs = env.action_space.n\n",
    "        self.actions = np.arange(env.action_space.n)\n",
    "        self.learning_rate = learning_rate\n",
    "        \n",
    "        ### Construcción de la red neuronal\n",
    "        self.model = torch.nn.Sequential(\n",
    "            torch.nn.Linear(self.n_inputs, 16, bias=True),\n",
    "            torch.nn.ReLU(),\n",
    "            torch.nn.Linear(16, 16, bias=True),\n",
    "            torch.nn.ReLU(),\n",
    "            torch.nn.Linear(16, self.n_outputs, bias=True))\n",
    "        \n",
    "        self.optimizer = torch.optim.Adam(self.parameters(), lr=self.learning_rate)\n",
    "        \n",
    "        \n",
    "        ### Se ofrece la opción de trabajar con CUDA\n",
    "        if self.device == 'cuda':\n",
    "            self.model.cuda()\n",
    "            \n",
    "    \n",
    "    ### Método e-greedy\n",
    "    def get_action(self, state, epsilon=0.05):\n",
    "        if np.random.random() < epsilon:\n",
    "            action = np.random.choice(self.actions)  # acción aleatoria\n",
    "        else:\n",
    "            qvals = self.get_qvals(state)  # acción a partir del cálculo del valor de Q para esa acción\n",
    "            action= torch.max(qvals, dim=-1)[1].item()\n",
    "        return action\n",
    "    \n",
    "    \n",
    "    def get_qvals(self, state):\n",
    "        if type(state) is tuple:\n",
    "            state = np.array([np.ravel(s) for s in state])\n",
    "        state_t = torch.FloatTensor(state).to(device=self.device)\n",
    "        return self.model(state_t)"
   ]
  },
  {
   "cell_type": "markdown",
   "metadata": {},
   "source": [
    "#### 2.1.1. _Buffer_ de repetición de experiencias"
   ]
  },
  {
   "cell_type": "markdown",
   "metadata": {},
   "source": [
    "Otro problema del algoritmo básico de la DQN era la secuencialidad de los datos: los estados están muy correlacionados y la red neuronal no puede funcionar bien con tanta correlación. Introduciendo un **<i>buffer</i> de repetición de experiencias** permitimos que se almacenen unas cuantas experiencias pasadas y que se pase un subconjunto aleatorio de estas a la red neuronal. A su vez, el *buffer* se tiene que ir alimentando de experiencias nuevas conforme el agente va aprendiendo."
   ]
  },
  {
   "cell_type": "markdown",
   "metadata": {},
   "source": [
    "Importamos primero las funciones `deque` y `namedtuple` de la librería `collections`. El *deque* es un objeto que almacena valores hasta un límite fijado. Cuando se llega al límite, el *deque* elimina el primer valor para que pueda entrar uno nuevo, y así sucesívamente, facilitando, en nuestro caso, la retroalimentación del *buffer* con experiencias más nuevas y cada vez más relevantes."
   ]
  },
  {
   "cell_type": "code",
   "execution_count": 109,
   "metadata": {
    "ExecuteTime": {
     "end_time": "2023-09-21T08:56:17.888999005Z",
     "start_time": "2023-09-21T08:56:17.834845907Z"
    }
   },
   "outputs": [],
   "source": [
    "from collections import namedtuple, deque"
   ]
  },
  {
   "cell_type": "markdown",
   "metadata": {},
   "source": [
    "Definimos el __<i>buffer</i> de repetición de experiencias__:"
   ]
  },
  {
   "cell_type": "code",
   "execution_count": 110,
   "metadata": {
    "id": "9F0QBdxTZKJl",
    "ExecuteTime": {
     "end_time": "2023-09-21T08:56:17.889094907Z",
     "start_time": "2023-09-21T08:56:17.834964070Z"
    }
   },
   "outputs": [],
   "source": [
    "class experienceReplayBuffer:\n",
    "\n",
    "    def __init__(self, memory_size=50000, burn_in=10000):\n",
    "        self.memory_size = memory_size\n",
    "        self.burn_in = burn_in\n",
    "        self.buffer = namedtuple('Buffer', \n",
    "            field_names=['state', 'action', 'reward', 'done', 'next_state'])\n",
    "        self.replay_memory = deque(maxlen=memory_size)\n",
    "\n",
    "    ##Creamos una lista de índices aleatorios y empaquetamos las experiencias en arrays de Numpy (facilita el cálculo posterior de la pérdida)\n",
    "    def sample_batch(self, batch_size=32):\n",
    "        samples = np.random.choice(len(self.replay_memory), batch_size, \n",
    "                                   replace=False)\n",
    "        # Use asterisk operator to unpack deque \n",
    "        batch = zip(*[self.replay_memory[i] for i in samples])\n",
    "        return batch\n",
    "\n",
    "    ## Se añaden las nuevas experiencias \n",
    "    def append(self, state, action, reward, done, next_state):\n",
    "        self.replay_memory.append(\n",
    "            self.buffer(state, action, reward, done, next_state))\n",
    "\n",
    "    ## Rellenamos el buffer con experiencias aleatorias al inicio del entrenamiento\n",
    "    def burn_in_capacity(self):\n",
    "        return len(self.replay_memory) / self.burn_in"
   ]
  },
  {
   "cell_type": "markdown",
   "metadata": {},
   "source": [
    "El *burn-in* nos permite rellenar el *buffer* al inicio del entrenamiento (cuando el agente aún no ha empezado a explorar) con experiencias aleatorias para que esté suficientemente lleno como para empezar a entrenar con una variedad de información bastante amplia. "
   ]
  },
  {
   "cell_type": "markdown",
   "metadata": {},
   "source": [
    "### 2.2. Definición del agente"
   ]
  },
  {
   "cell_type": "markdown",
   "metadata": {},
   "source": [
    "Una vez tenemos el modelo definido, solo nos queda definir el comportamiento del agente, el cómo aprende.\n",
    "\n",
    "Recordemos que la última mejora que hacíamos a la DQN básica y que nos permitía establecer el algoritmo DQN final era la introducción de una **red objetivo**. Con esta segunda red (copia exacta de la principal), calculamos el valor objetivo _Q'_ mientras que con la red principal calculamos el valor de _Q_ actual. Y cada cierto tiempo se sincronizan las dos redes. Así, conseguimos evitar que el agente se estanque en una región debido a que la diferencia entre estados sea tan pequeña (correlación), que siempre elija la misma acción y que termine por aprender erróneamente. \n",
    "\n",
    "Básicamente, el proceso que seguirá el agente será el siguiente:\n",
    "<ol>\n",
    "    <li> Rellenar el _buffer_ con unas cuantas experiencias aleatorias. </li>\n",
    "    <li> Interactuar con el entorno (dar un paso): \n",
    "        <ul>\n",
    "            <li> Tomar acción según la probabilidad <i>epsilon</i>. </li>\n",
    "            <li> Almacenar la información en el <i>buffer</i>. </li>\n",
    "            <li> Obtener la recompensa si se encuentra al final del episodio en cuestión. </li>\n",
    "        </ul>\n",
    "    </li>\n",
    "    <li> Actualizar la red neuronal con la frecuencia que se establezca y calcular la pérdida. </li>\n",
    "    <li> Sincronizar la red principal con la red objetivo con la frecuencia que se establezca. </li>\n",
    "    <li> Calcular la media de las recompensas de los últimos _X_ episodios (generalmente 100). </li>\n",
    "    <li> Modificar el valor de <i>epsilon</i> para favorecer la explotación frente a la exploración. </li>\n",
    "</ol>\n",
    "\n",
    "El agente repetirá este proceso hasta que consiga el objetivo a partir del cual se considera que ha aprendido a jugar (en **CartPole** es 195, como se indica en la variable `env.spec.reward_threshold`) o hasta que se agote el límite máximo de episodios establecido (hiperparámetro fijado)."
   ]
  },
  {
   "cell_type": "code",
   "execution_count": 111,
   "metadata": {
    "ExecuteTime": {
     "end_time": "2023-09-21T08:56:17.889181140Z",
     "start_time": "2023-09-21T08:56:17.835029692Z"
    }
   },
   "outputs": [],
   "source": [
    "from copy import deepcopy, copy"
   ]
  },
  {
   "cell_type": "code",
   "execution_count": 112,
   "metadata": {
    "id": "BPcOyH4GY1mN",
    "ExecuteTime": {
     "end_time": "2023-09-21T08:56:17.889276830Z",
     "start_time": "2023-09-21T08:56:17.835084657Z"
    }
   },
   "outputs": [],
   "source": [
    "class DQNAgent:\n",
    "    \n",
    "    def __init__(self, env, dnnetwork, buffer, epsilon=0.1, eps_decay=0.99, batch_size=32):\n",
    "        \n",
    "        self.env = env\n",
    "        self.dnnetwork = dnnetwork\n",
    "        self.target_network = deepcopy(dnnetwork) # red objetivo (copia de la principal)\n",
    "        self.buffer = buffer\n",
    "        self.epsilon = epsilon\n",
    "        self.eps_decay = eps_decay\n",
    "        self.batch_size = batch_size\n",
    "        self.nblock = 100 # bloque de los X últimos episodios de los que se calculará la media de recompensa\n",
    "        self.reward_threshold = self.env.spec.reward_threshold # recompensa media a partir de la cual se considera\n",
    "                                                               # que el agente ha aprendido a jugar\n",
    "        self.initialize()\n",
    "    \n",
    "    \n",
    "    def initialize(self):\n",
    "        self.update_loss = []\n",
    "        self.training_rewards = []\n",
    "        self.mean_training_rewards = []\n",
    "        self.sync_eps = []\n",
    "        self.total_reward = 0\n",
    "        self.step_count = 0\n",
    "        self.state0 = self.env.reset()[0]\n",
    "        \n",
    "    \n",
    "    ## Tomamos una nueva acción\n",
    "    def take_step(self, eps, mode='train'):\n",
    "        if mode == 'explore': \n",
    "            # acción aleatoria en el burn-in y en la fase de exploración (epsilon)\n",
    "            action = self.env.action_space.sample() \n",
    "        else:\n",
    "            # acción a partir del valor de Q (elección de la acción con mejor Q)\n",
    "            action = self.dnnetwork.get_action(self.state0, eps)\n",
    "            self.step_count += 1\n",
    "            \n",
    "        # Realizamos la acción y obtenemos el nuevo estado y la recompensa\n",
    "        new_state, reward, terminated, truncated, _ = self.env.step(action)\n",
    "        done = terminated or truncated\n",
    "        self.total_reward += reward\n",
    "        self.buffer.append(self.state0, action, reward, done, new_state) # guardamos experiencia en el buffer\n",
    "        self.state0 = new_state.copy()\n",
    "        \n",
    "        if done:\n",
    "            self.state0 = self.env.reset()[0]\n",
    "        return done\n",
    "\n",
    "    \n",
    "        \n",
    "    ## Entrenamiento\n",
    "    def train(self, gamma=0.99, max_episodes=50000, \n",
    "              batch_size=32,\n",
    "              dnn_update_frequency=4,\n",
    "              dnn_sync_frequency=2000):\n",
    "        \n",
    "        self.gamma = gamma\n",
    "\n",
    "        # Rellenamos el buffer con N experiencias aleatorias ()\n",
    "        print(\"Filling replay buffer...\")\n",
    "        while self.buffer.burn_in_capacity() < 1:\n",
    "            self.take_step(self.epsilon, mode='explore')\n",
    "\n",
    "            \n",
    "        episode = 0\n",
    "        training = True\n",
    "        print(\"Training...\")\n",
    "        while training:\n",
    "            self.state0 = self.env.reset()[0]\n",
    "            self.total_reward = 0\n",
    "            gamedone = False\n",
    "            while gamedone == False:\n",
    "                # El agente toma una acción\n",
    "                gamedone = self.take_step(self.epsilon, mode='train')\n",
    "               \n",
    "                # Actualizamos la red principal según la frecuencia establecida\n",
    "                if self.step_count % dnn_update_frequency == 0:\n",
    "                    self.update()\n",
    "                # Sincronizamos la red principal y la red objetivo según la frecuencia establecida\n",
    "                if self.step_count % dnn_sync_frequency == 0:\n",
    "                    self.target_network.load_state_dict(\n",
    "                        self.dnnetwork.state_dict())\n",
    "                    self.sync_eps.append(episode)\n",
    "                    \n",
    "                \n",
    "                if gamedone:                   \n",
    "                    episode += 1\n",
    "                    self.training_rewards.append(self.total_reward) # guardamos las recompensas obtenidas\n",
    "                    self.update_loss = []\n",
    "                    mean_rewards = np.mean(   # calculamos la media de recompensa de los últimos X episodios\n",
    "                        self.training_rewards[-self.nblock:])\n",
    "                    self.mean_training_rewards.append(mean_rewards)\n",
    "\n",
    "                    print(\"\\rEpisode {:d} Mean Rewards {:.2f} Epsilon {}\\t\\t\".format(\n",
    "                        episode, mean_rewards, self.epsilon), end=\"\")\n",
    "                    \n",
    "                    # Comprobamos que todavía quedan episodios\n",
    "                    if episode >= max_episodes:\n",
    "                        training = False\n",
    "                        print('\\nEpisode limit reached.')\n",
    "                        break\n",
    "                    \n",
    "                    # Termina el juego si la media de recompensas ha llegado al umbral fijado para este juego  \n",
    "                    if mean_rewards >= self.reward_threshold:\n",
    "                        training = False\n",
    "                        print('\\nEnvironment solved in {} episodes!'.format(\n",
    "                            episode))\n",
    "                        break\n",
    "                    \n",
    "                    # Actualizamos epsilon según la velocidad de decaimiento fijada\n",
    "                    self.epsilon = max(self.epsilon * self.eps_decay, 0.01)\n",
    "                    \n",
    "                \n",
    "    ## Cálculo de la pérdida                   \n",
    "    def calculate_loss(self, batch):\n",
    "        # Separamos las variables de la experiencia y las convertimos a tensores \n",
    "        states, actions, rewards, dones, next_states = [i for i in batch] \n",
    "        rewards_vals = torch.FloatTensor(rewards).to(device=self.dnnetwork.device) \n",
    "        actions_vals = torch.LongTensor(np.array(actions)).reshape(-1,1).to(\n",
    "            device=self.dnnetwork.device)\n",
    "        dones_t = torch.BoolTensor(dones).to(device=self.dnnetwork.device)\n",
    "        \n",
    "        # Obtenemos los valores de Q de la red principal\n",
    "        qvals = torch.gather(self.dnnetwork.get_qvals(states), 1, actions_vals)\n",
    "        # Obtenemos los valores de Q objetivo. El parámetro detach() evita que estos valores actualicen la red objetivo\n",
    "        qvals_next = torch.max(self.target_network.get_qvals(next_states),\n",
    "                               dim=-1)[0].detach()\n",
    "        qvals_next[dones_t] = 0 # 0 en estados terminales\n",
    "        \n",
    "        # Calculamos la ecuación de Bellman\n",
    "        expected_qvals = self.gamma * qvals_next + rewards_vals\n",
    "        \n",
    "        # Calculamos la pérdida\n",
    "        loss = torch.nn.MSELoss()(qvals, expected_qvals.reshape(-1,1))\n",
    "        return loss\n",
    "    \n",
    "\n",
    "    \n",
    "    def update(self):\n",
    "        self.dnnetwork.optimizer.zero_grad()  # eliminamos cualquier gradiente pasado\n",
    "        batch = self.buffer.sample_batch(batch_size=self.batch_size) # seleccionamos un conjunto del buffer\n",
    "        loss = self.calculate_loss(batch) # calculamos la pérdida\n",
    "        loss.backward() # hacemos la diferencia para obtener los gradientes\n",
    "        self.dnnetwork.optimizer.step() # aplicamos los gradientes a la red neuronal\n",
    "        # Guardamos los valores de pérdida\n",
    "        if self.dnnetwork.device == 'cuda':\n",
    "            self.update_loss.append(loss.detach().cpu().numpy())\n",
    "        else:\n",
    "            self.update_loss.append(loss.detach().numpy())\n",
    "            \n",
    "\n",
    "\n",
    "    def plot_rewards(self):\n",
    "        plt.figure(figsize=(12,8))\n",
    "        plt.plot(self.training_rewards, label='Rewards')\n",
    "        plt.plot(self.mean_training_rewards, label='Mean Rewards')\n",
    "        plt.axhline(self.reward_threshold, color='r', label=\"Reward threshold\")\n",
    "        plt.xlabel('Episodes')\n",
    "        plt.ylabel('Rewards')\n",
    "        plt.legend(loc=\"upper left\")\n",
    "        plt.show()\n"
   ]
  },
  {
   "cell_type": "markdown",
   "metadata": {},
   "source": [
    "### 2.3. Hiperparámetros"
   ]
  },
  {
   "cell_type": "markdown",
   "metadata": {},
   "source": [
    "Fijamos los hiperparámetros necesarios:"
   ]
  },
  {
   "cell_type": "code",
   "execution_count": 113,
   "metadata": {
    "id": "2625S-lDWxag",
    "ExecuteTime": {
     "end_time": "2023-09-21T08:56:17.889361011Z",
     "start_time": "2023-09-21T08:56:17.835352614Z"
    }
   },
   "outputs": [],
   "source": [
    "lr = 0.001            #Velocidad de aprendizaje\n",
    "MEMORY_SIZE = 100000  #Máxima capacidad del buffer\n",
    "MAX_EPISODES = 5000   #Número máximo de episodios (el agente debe aprender antes de llegar a este valor)\n",
    "EPSILON = 1           #Valor inicial de epsilon\n",
    "EPSILON_DECAY = .99   #Decaimiento de epsilon\n",
    "GAMMA = 0.99          #Valor gamma de la ecuación de Bellman\n",
    "BATCH_SIZE = 32       #Conjunto a coger del buffer para la red neuronal\n",
    "BURN_IN = 1000        #Número de episodios iniciales usados para rellenar el buffer antes de entrenar\n",
    "DNN_UPD = 1           #Frecuencia de actualización de la red neuronal \n",
    "DNN_SYNC = 2500       #Frecuencia de sincronización de pesos entre la red neuronal y la red objetivo"
   ]
  },
  {
   "cell_type": "markdown",
   "metadata": {},
   "source": [
    "### 2.4. Entrenamiento"
   ]
  },
  {
   "cell_type": "markdown",
   "metadata": {},
   "source": [
    "Creamos el *buffer* de repetición de experiencias:"
   ]
  },
  {
   "cell_type": "code",
   "execution_count": 114,
   "metadata": {
    "ExecuteTime": {
     "end_time": "2023-09-21T08:56:17.899731989Z",
     "start_time": "2023-09-21T08:56:17.839953250Z"
    }
   },
   "outputs": [],
   "source": [
    "buffer = experienceReplayBuffer(memory_size=MEMORY_SIZE, burn_in=BURN_IN)"
   ]
  },
  {
   "cell_type": "markdown",
   "metadata": {},
   "source": [
    "Cargamos el modelo de red neuronal:"
   ]
  },
  {
   "cell_type": "code",
   "execution_count": 115,
   "metadata": {
    "ExecuteTime": {
     "end_time": "2023-09-21T08:56:17.908788016Z",
     "start_time": "2023-09-21T08:56:17.886817366Z"
    }
   },
   "outputs": [],
   "source": [
    "device = \"cuda\" if torch.cuda.is_available() else \"cpu\"\n",
    "dqn = DQN(env, learning_rate=lr, device=device)"
   ]
  },
  {
   "cell_type": "markdown",
   "metadata": {},
   "source": [
    "Creamos nuestro agente:"
   ]
  },
  {
   "cell_type": "code",
   "execution_count": 116,
   "metadata": {
    "ExecuteTime": {
     "end_time": "2023-09-21T08:56:17.908972043Z",
     "start_time": "2023-09-21T08:56:17.886931181Z"
    }
   },
   "outputs": [],
   "source": [
    "agent = DQNAgent(env, dqn, buffer, EPSILON, EPSILON_DECAY, BATCH_SIZE)"
   ]
  },
  {
   "cell_type": "markdown",
   "metadata": {},
   "source": [
    "Entrenamos al agente con los hiperparámetros establecidos:"
   ]
  },
  {
   "cell_type": "code",
   "execution_count": 117,
   "metadata": {
    "colab": {
     "base_uri": "https://localhost:8080/"
    },
    "id": "agusIfEMZlKi",
    "outputId": "47b8253f-5857-4b63-d60c-442b983d1d3c",
    "ExecuteTime": {
     "end_time": "2023-09-21T09:08:33.448675451Z",
     "start_time": "2023-09-21T08:56:17.886991168Z"
    }
   },
   "outputs": [
    {
     "name": "stdout",
     "output_type": "stream",
     "text": [
      "Filling replay buffer...\n",
      "Training...\n",
      "Episode 5 Mean Rewards 20.00 Epsilon 0.96059601\t\t999999\t\t"
     ]
    },
    {
     "name": "stderr",
     "output_type": "stream",
     "text": [
      "/home/ruben/PycharmProjects/Aprendizaje-por-refuerzo/env/lib/python3.7/site-packages/ipykernel_launcher.py:128: UserWarning: masked_fill_ received a mask with dtype torch.uint8, this behavior is now deprecated,please use a mask with dtype torch.bool instead. (Triggered internally at ../aten/src/ATen/native/cuda/Indexing.cu:1435.)\n"
     ]
    },
    {
     "name": "stdout",
     "output_type": "stream",
     "text": [
      "Episode 1597 Mean Rewards 475.72 Epsilon 0.01\t\t8606165716\t\t\t\t\n",
      "Environment solved in 1597 episodes!\n"
     ]
    }
   ],
   "source": [
    "agent.train(gamma=GAMMA, max_episodes=MAX_EPISODES, \n",
    "              batch_size=BATCH_SIZE, dnn_update_frequency=DNN_UPD, dnn_sync_frequency=DNN_SYNC)"
   ]
  },
  {
   "cell_type": "markdown",
   "metadata": {},
   "source": [
    "### 2.5. Representar el aprendizaje del agente"
   ]
  },
  {
   "cell_type": "code",
   "execution_count": 118,
   "metadata": {
    "colab": {
     "base_uri": "https://localhost:8080/",
     "height": 497
    },
    "id": "9ghHg3rH3MTV",
    "outputId": "a7c5d4cb-5e98-45ac-ca70-8dcfdffaa86a",
    "ExecuteTime": {
     "end_time": "2023-09-21T09:08:33.589205400Z",
     "start_time": "2023-09-21T09:08:33.450403652Z"
    }
   },
   "outputs": [
    {
     "data": {
      "text/plain": "<Figure size 1200x800 with 1 Axes>",
      "image/png": "[encoded data removed]"
     },
     "metadata": {},
     "output_type": "display_data"
    }
   ],
   "source": [
    "agent.plot_rewards()"
   ]
  }
 ],
 "metadata": {
  "colab": {
   "collapsed_sections": [],
   "name": "OriginalBlog_mod.ipynb",
   "provenance": []
  },
  "kernelspec": {
   "display_name": "Python 3",
   "language": "python",
   "name": "python3"
  },
  "language_info": {
   "codemirror_mode": {
    "name": "ipython",
    "version": 3
   },
   "file_extension": ".py",
   "mimetype": "text/x-python",
   "name": "python",
   "nbconvert_exporter": "python",
   "pygments_lexer": "ipython3",
   "version": "3.8.8"
  }
 },
 "nbformat": 4,
 "nbformat_minor": 1
}
