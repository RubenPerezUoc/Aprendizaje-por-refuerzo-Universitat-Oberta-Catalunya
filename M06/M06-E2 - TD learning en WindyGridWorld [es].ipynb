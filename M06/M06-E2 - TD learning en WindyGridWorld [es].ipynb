{
 "cells": [
  {
   "cell_type": "markdown",
   "metadata": {
    "id": "hkkr1HUBPOcL"
   },
   "source": [
    "<div style=\"width: 100%; clear: both;\">\n",
    "<div style=\"float: left; width: 50%;\">\n",
    "<img src=\"http://www.uoc.edu/portal/_resources/common/imatges/marca_UOC/UOC_Masterbrand.jpg\", align=\"left\">\n",
    "</div>\n",
    "<div style=\"float: right; width: 50%;\">\n",
    "<p style=\"margin: 0; padding-top: 22px; text-align:right;\">M2.883 · Aprendizaje por refuerzo</p>\n",
    "<p style=\"margin: 0; text-align:right;\">Máster universitario en Ciencia de datos (<i>Data science</i>)</p>\n",
    "<p style=\"margin: 0; text-align:right; padding-button: 100px;\">Estudios de Informática, Multimedia y Telecomunicación</p>\n",
    "</div>\n",
    "</div>\n",
    "<div style=\"width:100%;\">&nbsp;</div>"
   ]
  },
  {
   "cell_type": "markdown",
   "metadata": {},
   "source": [
    "# Ejemplo: Método _TD learning_ en el entorno WindyGridWorld\n",
    "\n",
    "En este ejemplo implementaremos el método _TD learning_ de aprendizaje por refuerzo para buscar una solución óptima en el problema de WindyGridWorld."
   ]
  },
  {
   "cell_type": "markdown",
   "metadata": {
    "id": "CyFUy1qlDGku"
   },
   "source": [
    "## 1. El entorno __WindyGridWorld__\n",
    "\n",
    "El entorno __WindyGridWorld__ consiste en un agente que se mueve en una cuadrícula 7x10 (alto x ancho). En cada paso, el agente tiene 4 opciones de acción o movimiento: ARRIBA, ABAJO, DERECHA, IZQUIERDA. El agente siempre sale de la misma casilla [3, 0] y el juego termina cuando el agente llega a la casilla de llegada [3, 7]. \n",
    "\n",
    "El entorno se corresponde con el ejemplo 'Cuadrícula con viento' explicado en la sección 3.1.2. el módulo \"Métodos de Diferencia Temporal\". El problema radica en que hay un viento que empuja al agente hacia arriba en la parte central de la cuadrícula. Esto provoca que, aunque se ejecute una acción estándar, en la región central los estados resultantes se desplazan hacia arriba por un viento cuya fuerza varía entre columnas.\n",
    "\n",
    "<img src=\"../figs/GridWorld.png\">\n",
    "\n",
    "El código para implementar este entorno, que se encuentra disponible en el fichero adjunto `windy_gridworld_env.py`, ha sido adaptado del siguiente enlace:\n",
    "\n",
    "https://pypi.org/project/gym-gridworlds/"
   ]
  },
  {
   "cell_type": "markdown",
   "metadata": {},
   "source": [
    "## 2. Métodos de Diferencia Temporal\n",
    "\n",
    "El objetivo de este ejercicio es realizar una estimación de la política óptima mediante los métodos de Diferencia Temporal en el entorno WindyGridWorld."
   ]
  },
  {
   "cell_type": "markdown",
   "metadata": {},
   "source": [
    "A continuación, implementaremos el algoritmo de *Q-learning* explicado en el modulo \"Aprendizaje por Diferencia Temporal\" utilizando los siguientes parámetros:\n",
    "    \n",
    "- número de episodios = 200\n",
    "- *learning rate* = 0.5\n",
    "- *discount factor* = 1\n",
    "- *epsilon* = 0.05    \n",
    "\n",
    "Además, queremos que la solución propuesta nos permita: \n",
    "\n",
    "1. Mostrar por pantalla los valores Q estimados para cada estado. \n",
    "2. Mostrar por pantalla los valores de la función de valor $v_\\pi(s)$ estimada para cada estado. \n",
    "3. Ejecutar un episodio siguiendo la política óptima encontrada, donde se pueda reconocer la trayectoria seguida por el agente. "
   ]
  },
  {
   "cell_type": "code",
   "execution_count": 1,
   "metadata": {},
   "outputs": [
    {
     "name": "stdout",
     "output_type": "stream",
     "text": [
      "Action space is Discrete(4) \n",
      "Observation space is Tuple(Discrete(7), Discrete(10)) \n",
      "Reward range is (-inf, inf) \n"
     ]
    }
   ],
   "source": [
    "import matplotlib.pyplot as plt\n",
    "import matplotlib.collections as mcol\n",
    "from matplotlib.legend_handler import HandlerLineCollection, HandlerTuple\n",
    "from matplotlib.lines import Line2D\n",
    "from collections import defaultdict\n",
    "import gymnasium as gym\n",
    "import numpy as np\n",
    "import windy_gridworld_env as wge\n",
    "\n",
    "env = wge.WindyGridworldEnv()\n",
    "print(\"Action space is {} \".format(env.action_space))\n",
    "print(\"Observation space is {} \".format(env.observation_space))\n",
    "print(\"Reward range is {} \".format(env.reward_range))"
   ]
  },
  {
   "cell_type": "code",
   "execution_count": 2,
   "metadata": {},
   "outputs": [],
   "source": [
    "def epsilon_greedy_policy(Q, state, nA, epsilon):\n",
    "    '''\n",
    "    Create a policy in which epsilon dictates how likely it will \n",
    "    take a random action.\n",
    "\n",
    "    :param Q: links state -> action value (dictionary)\n",
    "    :param state: state character is in (int)\n",
    "    :param nA: number of actions (int)\n",
    "    :param epsilon: chance it will take a random move (float)\n",
    "    :return: probability of each action to be taken (list)\n",
    "    '''\n",
    "    probs = np.ones(nA) * epsilon / nA\n",
    "    best_action = np.argmax(Q[state])\n",
    "    probs[best_action] += 1.0 - epsilon\n",
    "\n",
    "    return probs"
   ]
  },
  {
   "cell_type": "code",
   "execution_count": 3,
   "metadata": {},
   "outputs": [],
   "source": [
    "def Q_learning(episodes, learning_rate, discount, epsilon):\n",
    "    '''\n",
    "    Learn to solve the environment using Q-learning\n",
    "\n",
    "    :param episodes: Number of episodes to run (int)\n",
    "    :param learning_rate: How fast it will converge to a point (float [0, 1])\n",
    "    :param discount: How much future events lose their value (float [0, 1])\n",
    "    :param epsilon: chance a random move is selected (float [0, 1])\n",
    "    :return: x,y points to graph\n",
    "    '''\n",
    "\n",
    "    # Links state to action values\n",
    "    Q = defaultdict(lambda: np.zeros(env.action_space.n))\n",
    "\n",
    "    # Points to plot\n",
    "    # number of episodes\n",
    "    x = np.arange(episodes)\n",
    "    # Number of steps\n",
    "    y = np.zeros(episodes)\n",
    "    \n",
    "    for episode in range(episodes):\n",
    "        state, info = env.reset()\n",
    "                \n",
    "        for step in range(10000):\n",
    "\n",
    "            # Select and take action\n",
    "            probs = epsilon_greedy_policy(Q, state, env.action_space.n, epsilon)\n",
    "            action = np.random.choice(np.arange(len(probs)), p=probs)\n",
    "            next_state, reward, terminated, truncated, _ = env.step(action)\n",
    "            done = terminated or truncated\n",
    "           \n",
    "            # TD Update\n",
    "            td_target = reward + discount * np.amax(Q[next_state])\n",
    "            td_error = td_target - Q[state][action]\n",
    "            Q[state][action] += learning_rate * td_error\n",
    "                        \n",
    "            if done:\n",
    "                y[episode] = step\n",
    "                break\n",
    "\n",
    "            state = next_state   \n",
    "                       \n",
    "    return x, y, Q"
   ]
  },
  {
   "cell_type": "code",
   "execution_count": 4,
   "metadata": {},
   "outputs": [],
   "source": [
    "x, y, q = Q_learning(episodes=200, learning_rate=0.5, discount=1, epsilon=0.05)"
   ]
  },
  {
   "cell_type": "code",
   "execution_count": 5,
   "metadata": {},
   "outputs": [
    {
     "name": "stdout",
     "output_type": "stream",
     "text": [
      "(0, 0) [-13.75       -13.85735168 -14.00598127 -13.90147955] -13.75\n",
      "(0, 1) [-13.97783425 -13.73118302 -13.68080919 -13.54325715] -13.543257146388758\n",
      "(0, 2) [-13.34367536 -12.96898183 -13.15315163 -13.12029874] -12.968981833022852\n",
      "(0, 3) [-12.         -11.99975215 -12.30550682 -12.78366594] -11.999752151664612\n",
      "(0, 4) [-11.         -11.         -11.48477277 -12.36204311] -10.99999999985788\n",
      "(0, 5) [-10.0511322  -10.         -10.49999606 -10.1404083 ] -10.0\n",
      "(0, 6) [ -9.75        -9.          -9.73026627 -10.03380357] -9.0\n",
      "(0, 7) [-8.94721942 -8.         -8.75621012 -9.95173485] -8.0\n",
      "(0, 8) [-7.75       -7.         -7.58955466 -8.80324484] -7.0\n",
      "(0, 9) [-6.66445381 -6.87499836 -6.         -7.89870333] -6.0\n",
      "(1, 0) [-14.05913377 -14.14331057 -13.94401342 -13.93417358] -13.934173583984375\n",
      "(1, 1) [-14.06056597 -13.71476294 -13.84079686 -14.02725999] -13.714762935828382\n",
      "(1, 2) [-13.23369961 -12.95218869 -13.09661504 -13.76533725] -12.952188691231367\n",
      "(1, 3) [-12.44179693 -11.99959376 -12.         -12.21537608] -11.99959375991303\n",
      "(1, 4) [-11.42546021 -10.99989255 -11.28319178 -11.91668545] -10.999892550684848\n",
      "(1, 5) [-10.77766322 -10.         -10.         -11.26561402] -10.0\n",
      "(1, 6) [-9.40267935 -8.9999963  -9.07762775 -9.54990591] -8.99999630028272\n",
      "(1, 7) [-8.12243744 -7.94638348 -8.23650232 -9.07392811] -7.94638347988243\n",
      "(1, 8) [-6.88465396 -6.83715353 -7.         -7.39051612] -6.837153526513868\n",
      "(1, 9) [-6.28168776 -5.96875    -5.         -7.05056255] -5.0\n",
      "(2, 0) [-14.52531018 -14.664179   -15.16306634 -14.89314695] -14.525310183014337\n",
      "(2, 1) [-14.20623296 -13.94665121 -14.19833052 -14.55334293] -13.946651211599304\n",
      "(2, 2) [-13.63288592 -12.98363005 -13.26480959 -13.72463756] -12.983630054609407\n",
      "(2, 3) [-12.46875229 -11.99759796 -12.41098697 -12.5270196 ] -11.997597958682874\n",
      "(2, 4) [-11.92435117 -11.         -11.5        -11.06380971] -11.0\n",
      "(2, 5) [-10.35986737  -9.9999088  -10.37578847 -10.70717522] -9.999908795043432\n",
      "(2, 6) [-9.13860493 -8.99743941 -9.38804765 -9.31244037] -8.997439407078463\n",
      "(2, 7) [-5.54188743 -4.99657745 -5.01885483 -6.80300373] -4.996577450976474\n",
      "(2, 8) [-6.47112865 -5.88101945 -6.         -6.44022176] -5.881019454448733\n",
      "(2, 9) [-5.87726207 -4.91015625 -4.         -6.38731823] -4.0\n",
      "(3, 0) [-15.24210944 -15.         -15.14835952 -15.70896668] -15.0\n",
      "(3, 1) [-14.78989663 -14.         -14.28291617 -15.88854215] -14.0\n",
      "(3, 2) [-13.74553175 -13.         -13.72247856 -13.20398395] -13.0\n",
      "(3, 3) [-12.93389727 -12.         -12.74858862 -12.79951877] -12.0\n",
      "(3, 4) [-11.41305642 -10.99897884 -11.34375    -11.07564654] -10.998978839465813\n",
      "(3, 5) [-10.3967268   -9.90987504 -10.         -10.69405435] -9.909875040559147\n",
      "(3, 6) [-9.28006373 -8.73376989 -9.52022361 -9.82918481] -8.733769894338929\n",
      "(3, 7) [0. 0. 0. 0.] 0.0\n",
      "(3, 8) [-5.03125    -4.23401272 -4.         -4.19996828] -4.0\n",
      "(3, 9) [-4.60285646 -3.875      -3.         -3.92093288] -3.0\n",
      "(4, 0) [-14.43274512 -14.3753498  -14.42656918 -14.33159519] -14.331595192896202\n",
      "(4, 1) [-13.56463706 -13.66988978 -13.86146465 -13.74040685] -13.564637060777333\n",
      "(4, 2) [-13.31126044 -12.93532728 -13.06776046 -13.07258356] -12.935327283761449\n",
      "(4, 3) [-12.0534263  -11.99289205 -12.         -12.12059069] -11.992892047480954\n",
      "(4, 4) [-11.328863   -10.74562774 -11.         -11.5155186 ] -10.745627744986795\n",
      "(4, 5) [ -9.69600241  -9.65135962 -10.          -9.79296903] -9.651359623600772\n",
      "(4, 6) [0. 0. 0. 0.] 0.0\n",
      "(4, 7) [-2.54477733 -1.99804688 -0.75       -4.99743941] -0.75\n",
      "(4, 8) [-2.1875     -2.6015625  -1.74999999 -1.        ] -1.0\n",
      "(4, 9) [-3.86783984 -2.96569824 -2.70687866 -2.        ] -2.0\n",
      "(5, 0) [-14.42524027 -13.79322597 -13.68836898 -13.87889129] -13.688368983523365\n",
      "(5, 1) [-13.58929066 -13.10603614 -13.17103689 -13.97481019] -13.106036137883637\n",
      "(5, 2) [-12.84007886 -12.37426264 -12.36121131 -12.83589003] -12.36121131194372\n",
      "(5, 3) [-12.16293091 -11.57026453 -11.5        -12.40806352] -11.5\n",
      "(5, 4) [-10.67558083 -10.41890066 -10.33984375 -11.45887359] -10.33984375\n",
      "(5, 5) [0. 0. 0. 0.] 0.0\n",
      "(5, 6) [0. 0. 0. 0.] 0.0\n",
      "(5, 7) [-1.74804449 -2.39696455  0.          0.        ] 0.0\n",
      "(5, 8) [-2.6875  -1.15625 -1.      -1.21875] -1.0\n",
      "(5, 9) [-1.9296875  -2.         -1.8671875  -1.85546875] -1.85546875\n",
      "(6, 0) [-13.51982254 -13.1394921  -13.         -13.        ] -13.0\n",
      "(6, 1) [-12.62412856 -12.65489873 -12.875      -13.15361099] -12.624128555189525\n",
      "(6, 2) [-12.19445349 -11.97012578 -12.268612   -12.25292811] -11.970125775854985\n",
      "(6, 3) [-12.02666709 -11.18822935 -11.5        -11.39059837] -11.188229345956145\n",
      "(6, 4) [0. 0. 0. 0.] 0.0\n",
      "(6, 5) [0. 0. 0. 0.] 0.0\n",
      "(6, 6) [0. 0. 0. 0.] 0.0\n",
      "(6, 7) [0. 0. 0. 0.] 0.0\n",
      "(6, 8) [-1.375 -0.875 -1.    -0.75 ] -0.75\n",
      "(6, 9) [-1.46875 -1.25    -1.5     -1.46875] -1.25\n"
     ]
    }
   ],
   "source": [
    "#mostrar los Q de cada estado-acción y la función valor\n",
    "\n",
    "f = open('output.txt', 'w')\n",
    "for i in range(7):\n",
    "    for j in range(10):\n",
    "        V = max(q[i,j])    \n",
    "        print((i,j), q[i,j], V)\n",
    "        print((i,j), q[i,j], V, file=f)"
   ]
  },
  {
   "cell_type": "code",
   "execution_count": 6,
   "metadata": {},
   "outputs": [],
   "source": [
    "# función que muestra los valores de la función de estado V(s) en la cuadricula\n",
    "\n",
    "def print_values(Q, height, width):\n",
    "    for i in range(height):\n",
    "        print(\"------------------------------------------------------------------------------------------\")\n",
    "        for j in range(width):\n",
    "            arr = np.array(Q[i,j])\n",
    "            v = np.amax(arr)\n",
    "            if v >= 0:\n",
    "                print(\" %.2f|\" % v, end=\"\")\n",
    "            else:\n",
    "                print(\"%.2f|\" % v, end=\"\") # -ve sign takes up an extra space\n",
    "        print(\"\")"
   ]
  },
  {
   "cell_type": "code",
   "execution_count": 7,
   "metadata": {
    "scrolled": true
   },
   "outputs": [
    {
     "name": "stdout",
     "output_type": "stream",
     "text": [
      "------------------------------------------------------------------------------------------\n",
      "-13.75|-13.54|-12.97|-12.00|-11.00|-10.00|-9.00|-8.00|-7.00|-6.00|\n",
      "------------------------------------------------------------------------------------------\n",
      "-13.93|-13.71|-12.95|-12.00|-11.00|-10.00|-9.00|-7.95|-6.84|-5.00|\n",
      "------------------------------------------------------------------------------------------\n",
      "-14.53|-13.95|-12.98|-12.00|-11.00|-10.00|-9.00|-5.00|-5.88|-4.00|\n",
      "------------------------------------------------------------------------------------------\n",
      "-15.00|-14.00|-13.00|-12.00|-11.00|-9.91|-8.73| 0.00|-4.00|-3.00|\n",
      "------------------------------------------------------------------------------------------\n",
      "-14.33|-13.56|-12.94|-11.99|-10.75|-9.65| 0.00|-0.75|-1.00|-2.00|\n",
      "------------------------------------------------------------------------------------------\n",
      "-13.69|-13.11|-12.36|-11.50|-10.34| 0.00| 0.00| 0.00|-1.00|-1.86|\n",
      "------------------------------------------------------------------------------------------\n",
      "-13.00|-12.62|-11.97|-11.19| 0.00| 0.00| 0.00| 0.00|-0.75|-1.25|\n"
     ]
    }
   ],
   "source": [
    "print_values(q, 7, 10)"
   ]
  },
  {
   "cell_type": "code",
   "execution_count": 8,
   "metadata": {
    "scrolled": true
   },
   "outputs": [],
   "source": [
    "# ejecución de un episodio siguiendo la politica optima\n",
    "\n",
    "def execute_episode_TD(q, env):\n",
    "    obs, info = env.reset()\n",
    "    t, total_reward, done = 0, 0, False\n",
    "\n",
    "    print(\"Obs inicial: {} \".format(obs))\n",
    "\n",
    "    switch_action = {\n",
    "            0: \"U\",\n",
    "            1: \"R\",\n",
    "            2: \"D\",\n",
    "            3: \"L\",\n",
    "        }\n",
    "\n",
    "    for t in range(1000): # limitamos el número de time-steps de cada episodio a 1000\n",
    "        \n",
    "        # Elegir una acción siguiendo la política óptima\n",
    "        arr = np.array(q[obs])\n",
    "        action = arr.argmax()\n",
    "       \n",
    "        # Ejecutar la acción y esperar la respuesta del entorno\n",
    "        new_obs, reward, terminated, truncated, info = env.step(action)\n",
    "        done = terminated or truncated\n",
    "        obs = new_obs\n",
    "        print(\"Action: {} -> Obs: {} and reward: {}\".format(switch_action[action], obs, reward))\n",
    "\n",
    "        if t==999:\n",
    "            print(\"Number of time-septs exceeds 1000. STOP episode.\") \n",
    "        total_reward += reward\n",
    "        t += 1\n",
    "        if done:\n",
    "            break\n",
    "   \n",
    "    print(\"Episode finished after {} timesteps and reward was {} \".format(t, total_reward))\n",
    "    env.close()"
   ]
  },
  {
   "cell_type": "code",
   "execution_count": 9,
   "metadata": {},
   "outputs": [
    {
     "name": "stdout",
     "output_type": "stream",
     "text": [
      "Obs inicial: (3, 0) \n",
      "Action: R -> Obs: (3, 1) and reward: -1\n",
      "Action: R -> Obs: (3, 2) and reward: -1\n",
      "Action: R -> Obs: (3, 3) and reward: -1\n",
      "Action: R -> Obs: (2, 4) and reward: -1\n",
      "Action: R -> Obs: (1, 5) and reward: -1\n",
      "Action: R -> Obs: (0, 6) and reward: -1\n",
      "Action: R -> Obs: (0, 7) and reward: -1\n",
      "Action: R -> Obs: (0, 8) and reward: -1\n",
      "Action: R -> Obs: (0, 9) and reward: -1\n",
      "Action: D -> Obs: (1, 9) and reward: -1\n",
      "Action: D -> Obs: (2, 9) and reward: -1\n",
      "Action: D -> Obs: (3, 9) and reward: -1\n",
      "Action: D -> Obs: (4, 9) and reward: -1\n",
      "Action: L -> Obs: (4, 8) and reward: -1\n",
      "Action: L -> Obs: (3, 7) and reward: -1\n",
      "Episode finished after 15 timesteps and reward was -15 \n"
     ]
    }
   ],
   "source": [
    "execute_episode_TD(q, env)"
   ]
  }
 ],
 "metadata": {
  "colab": {
   "collapsed_sections": [],
   "name": "M2.883_PEC1_.ipynb",
   "provenance": []
  },
  "kernelspec": {
   "display_name": "Python 3",
   "language": "python",
   "name": "python3"
  },
  "language_info": {
   "codemirror_mode": {
    "name": "ipython",
    "version": 3
   },
   "file_extension": ".py",
   "mimetype": "text/x-python",
   "name": "python",
   "nbconvert_exporter": "python",
   "pygments_lexer": "ipython3",
   "version": "3.11.3"
  }
 },
 "nbformat": 4,
 "nbformat_minor": 1
}
